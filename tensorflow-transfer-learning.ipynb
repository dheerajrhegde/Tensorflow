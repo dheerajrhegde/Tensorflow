{
 "cells": [
  {
   "cell_type": "code",
   "execution_count": 1,
   "id": "bed72d9e",
   "metadata": {
    "_cell_guid": "b1076dfc-b9ad-4769-8c92-a6c4dae69d19",
    "_uuid": "8f2839f25d086af736a60e9eeb907d3b93b6e0e5",
    "execution": {
     "iopub.execute_input": "2023-11-13T16:53:26.976011Z",
     "iopub.status.busy": "2023-11-13T16:53:26.975650Z",
     "iopub.status.idle": "2023-11-13T16:53:28.201054Z",
     "shell.execute_reply": "2023-11-13T16:53:28.200201Z"
    },
    "papermill": {
     "duration": 1.234047,
     "end_time": "2023-11-13T16:53:28.203374",
     "exception": false,
     "start_time": "2023-11-13T16:53:26.969327",
     "status": "completed"
    },
    "tags": []
   },
   "outputs": [],
   "source": [
    "# This Python 3 environment comes with many helpful analytics libraries installed\n",
    "# It is defined by the kaggle/python Docker image: https://github.com/kaggle/docker-python\n",
    "# For example, here's several helpful packages to load\n",
    "\n",
    "import numpy as np # linear algebra\n",
    "import pandas as pd # data processing, CSV file I/O (e.g. pd.read_csv)\n",
    "\n",
    "# Input data files are available in the read-only \"../input/\" directory\n",
    "# For example, running this (by clicking run or pressing Shift+Enter) will list all files under the input directory\n",
    "\n",
    "import os\n",
    "for dirname, _, filenames in os.walk('/kaggle/input'):\n",
    "    for filename in filenames:\n",
    "        print(os.path.join(dirname, filename))\n",
    "\n",
    "# You can write up to 20GB to the current directory (/kaggle/working/) that gets preserved as output when you create a version using \"Save & Run All\" \n",
    "# You can also write temporary files to /kaggle/temp/, but they won't be saved outside of the current session"
   ]
  },
  {
   "cell_type": "code",
   "execution_count": 2,
   "id": "7339b529",
   "metadata": {
    "execution": {
     "iopub.execute_input": "2023-11-13T16:53:28.212653Z",
     "iopub.status.busy": "2023-11-13T16:53:28.212254Z",
     "iopub.status.idle": "2023-11-13T16:53:29.786263Z",
     "shell.execute_reply": "2023-11-13T16:53:29.785257Z"
    },
    "papermill": {
     "duration": 1.580883,
     "end_time": "2023-11-13T16:53:29.788496",
     "exception": false,
     "start_time": "2023-11-13T16:53:28.207613",
     "status": "completed"
    },
    "tags": []
   },
   "outputs": [
    {
     "name": "stdout",
     "output_type": "stream",
     "text": [
      "--2023-11-13 16:53:29--  https://storage.googleapis.com/mledu-datasets/inception_v3_weights_tf_dim_ordering_tf_kernels_notop.h5\r\n",
      "Resolving storage.googleapis.com (storage.googleapis.com)... 108.177.112.207, 74.125.124.207, 172.217.212.207, ...\r\n",
      "Connecting to storage.googleapis.com (storage.googleapis.com)|108.177.112.207|:443... connected.\r\n",
      "HTTP request sent, awaiting response... 200 OK\r\n",
      "Length: 87910968 (84M) [application/x-hdf]\r\n",
      "Saving to: ‘/tmp/inception_v3_weights_tf_dim_ordering_tf_kernels_notop.h5’\r\n",
      "\r\n",
      "/tmp/inception_v3_w 100%[===================>]  83.84M   181MB/s    in 0.5s    \r\n",
      "\r\n",
      "2023-11-13 16:53:29 (181 MB/s) - ‘/tmp/inception_v3_weights_tf_dim_ordering_tf_kernels_notop.h5’ saved [87910968/87910968]\r\n",
      "\r\n"
     ]
    }
   ],
   "source": [
    "# Download the pre-trained weights. No top means it excludes the fully connected layer it uses for classification.\n",
    "!wget --no-check-certificate \\\n",
    "    https://storage.googleapis.com/mledu-datasets/inception_v3_weights_tf_dim_ordering_tf_kernels_notop.h5 \\\n",
    "    -O /tmp/inception_v3_weights_tf_dim_ordering_tf_kernels_notop.h5"
   ]
  },
  {
   "cell_type": "code",
   "execution_count": 3,
   "id": "908027cc",
   "metadata": {
    "execution": {
     "iopub.execute_input": "2023-11-13T16:53:29.799892Z",
     "iopub.status.busy": "2023-11-13T16:53:29.798977Z",
     "iopub.status.idle": "2023-11-13T16:53:54.584357Z",
     "shell.execute_reply": "2023-11-13T16:53:54.583583Z"
    },
    "papermill": {
     "duration": 24.79331,
     "end_time": "2023-11-13T16:53:54.586637",
     "exception": false,
     "start_time": "2023-11-13T16:53:29.793327",
     "status": "completed"
    },
    "tags": []
   },
   "outputs": [
    {
     "name": "stderr",
     "output_type": "stream",
     "text": [
      "/opt/conda/lib/python3.10/site-packages/scipy/__init__.py:146: UserWarning: A NumPy version >=1.16.5 and <1.23.0 is required for this version of SciPy (detected version 1.24.3\n",
      "  warnings.warn(f\"A NumPy version >={np_minversion} and <{np_maxversion}\"\n"
     ]
    }
   ],
   "source": [
    "from tensorflow.keras.applications.inception_v3 import InceptionV3\n",
    "from tensorflow.keras import layers\n",
    "local_weights_file = '/tmp/inception_v3_weights_tf_dim_ordering_tf_kernels_notop.h5'\n",
    "\n",
    "pre_trained_model = InceptionV3(input_shape=(150,150,3),include_top=False, weights=None)"
   ]
  },
  {
   "cell_type": "code",
   "execution_count": 4,
   "id": "fb29cba8",
   "metadata": {
    "execution": {
     "iopub.execute_input": "2023-11-13T16:53:54.597474Z",
     "iopub.status.busy": "2023-11-13T16:53:54.597140Z",
     "iopub.status.idle": "2023-11-13T16:53:55.072190Z",
     "shell.execute_reply": "2023-11-13T16:53:55.071065Z"
    },
    "papermill": {
     "duration": 0.483156,
     "end_time": "2023-11-13T16:53:55.074870",
     "exception": false,
     "start_time": "2023-11-13T16:53:54.591714",
     "status": "completed"
    },
    "tags": []
   },
   "outputs": [],
   "source": [
    "pre_trained_model.load_weights(local_weights_file)\n",
    "\n",
    "for layer in pre_trained_model.layers:\n",
    "    layer.trainable = False"
   ]
  },
  {
   "cell_type": "code",
   "execution_count": 5,
   "id": "f7159698",
   "metadata": {
    "execution": {
     "iopub.execute_input": "2023-11-13T16:53:55.086456Z",
     "iopub.status.busy": "2023-11-13T16:53:55.086113Z",
     "iopub.status.idle": "2023-11-13T16:53:55.091401Z",
     "shell.execute_reply": "2023-11-13T16:53:55.090455Z"
    },
    "papermill": {
     "duration": 0.013409,
     "end_time": "2023-11-13T16:53:55.093571",
     "exception": false,
     "start_time": "2023-11-13T16:53:55.080162",
     "status": "completed"
    },
    "tags": []
   },
   "outputs": [],
   "source": [
    "last_layer = pre_trained_model.get_layer(\"mixed7\")\n",
    "last_output = last_layer.output"
   ]
  },
  {
   "cell_type": "code",
   "execution_count": 6,
   "id": "8eaad6c4",
   "metadata": {
    "execution": {
     "iopub.execute_input": "2023-11-13T16:53:55.104550Z",
     "iopub.status.busy": "2023-11-13T16:53:55.104219Z",
     "iopub.status.idle": "2023-11-13T16:53:55.203509Z",
     "shell.execute_reply": "2023-11-13T16:53:55.202470Z"
    },
    "papermill": {
     "duration": 0.107269,
     "end_time": "2023-11-13T16:53:55.205732",
     "exception": false,
     "start_time": "2023-11-13T16:53:55.098463",
     "status": "completed"
    },
    "tags": []
   },
   "outputs": [],
   "source": [
    "from tensorflow.keras.optimizers import RMSprop\n",
    "from tensorflow.keras import layers, Model\n",
    "\n",
    "x = layers.Flatten()(last_output)\n",
    "x = layers.Dense(1024, activation=\"relu\")(x)\n",
    "x = layers.Dropout(0.2)(x)\n",
    "x = layers.Dense(1, activation=\"sigmoid\")(x)\n",
    "\n",
    "model = Model(pre_trained_model.input, x)\n",
    "model.compile(optimizer=RMSprop(learning_rate=0.0001), loss=\"binary_crossentropy\",\n",
    "             metrics=[\"accuracy\"])"
   ]
  },
  {
   "cell_type": "code",
   "execution_count": 7,
   "id": "17eb7743",
   "metadata": {
    "execution": {
     "iopub.execute_input": "2023-11-13T16:53:55.215817Z",
     "iopub.status.busy": "2023-11-13T16:53:55.215526Z",
     "iopub.status.idle": "2023-11-13T16:53:56.638149Z",
     "shell.execute_reply": "2023-11-13T16:53:56.637124Z"
    },
    "papermill": {
     "duration": 1.430246,
     "end_time": "2023-11-13T16:53:56.640513",
     "exception": false,
     "start_time": "2023-11-13T16:53:55.210267",
     "status": "completed"
    },
    "tags": []
   },
   "outputs": [
    {
     "name": "stdout",
     "output_type": "stream",
     "text": [
      "--2023-11-13 16:53:56--  https://storage.googleapis.com/tensorflow-1-public/course2/cats_and_dogs_filtered.zip\r\n",
      "Resolving storage.googleapis.com (storage.googleapis.com)... 108.177.112.207, 74.125.124.207, 172.217.212.207, ...\r\n",
      "Connecting to storage.googleapis.com (storage.googleapis.com)|108.177.112.207|:443... connected.\r\n",
      "HTTP request sent, awaiting response... 200 OK\r\n",
      "Length: 68606236 (65M) [application/zip]\r\n",
      "Saving to: ‘cats_and_dogs_filtered.zip’\r\n",
      "\r\n",
      "cats_and_dogs_filte 100%[===================>]  65.43M   183MB/s    in 0.4s    \r\n",
      "\r\n",
      "2023-11-13 16:53:56 (183 MB/s) - ‘cats_and_dogs_filtered.zip’ saved [68606236/68606236]\r\n",
      "\r\n"
     ]
    }
   ],
   "source": [
    "!wget https://storage.googleapis.com/tensorflow-1-public/course2/cats_and_dogs_filtered.zip\n"
   ]
  },
  {
   "cell_type": "code",
   "execution_count": 8,
   "id": "ca9642e3",
   "metadata": {
    "execution": {
     "iopub.execute_input": "2023-11-13T16:53:56.651889Z",
     "iopub.status.busy": "2023-11-13T16:53:56.651542Z",
     "iopub.status.idle": "2023-11-13T16:53:57.443800Z",
     "shell.execute_reply": "2023-11-13T16:53:57.442749Z"
    },
    "papermill": {
     "duration": 0.800644,
     "end_time": "2023-11-13T16:53:57.446312",
     "exception": false,
     "start_time": "2023-11-13T16:53:56.645668",
     "status": "completed"
    },
    "tags": []
   },
   "outputs": [],
   "source": [
    "import zipfile\n",
    "zipref = zipfile.ZipFile(\"/kaggle/working/cats_and_dogs_filtered.zip\")\n",
    "zipref.extractall(\"tmp/\")\n",
    "zipref.close()"
   ]
  },
  {
   "cell_type": "code",
   "execution_count": 9,
   "id": "d074d346",
   "metadata": {
    "execution": {
     "iopub.execute_input": "2023-11-13T16:53:57.457822Z",
     "iopub.status.busy": "2023-11-13T16:53:57.457503Z",
     "iopub.status.idle": "2023-11-13T16:53:57.590612Z",
     "shell.execute_reply": "2023-11-13T16:53:57.589685Z"
    },
    "papermill": {
     "duration": 0.141065,
     "end_time": "2023-11-13T16:53:57.592704",
     "exception": false,
     "start_time": "2023-11-13T16:53:57.451639",
     "status": "completed"
    },
    "tags": []
   },
   "outputs": [
    {
     "name": "stdout",
     "output_type": "stream",
     "text": [
      "Found 2000 images belonging to 2 classes.\n",
      "Found 2000 images belonging to 2 classes.\n"
     ]
    }
   ],
   "source": [
    "train_dir = \"/kaggle/working/tmp/cats_and_dogs_filtered/train\"\n",
    "val_dir = \"/kaggle/working/tmp/cats_and_dogs_filtered/train\"\n",
    "from tensorflow.keras.preprocessing.image import ImageDataGenerator\n",
    "train_datagen = ImageDataGenerator(rescale=1/255)\n",
    "val_datagen = ImageDataGenerator(rescale=1/255)\n",
    "train_generator = train_datagen.flow_from_directory(train_dir, target_size=(150,150), batch_size=20, class_mode=\"binary\")\n",
    "val_generator = val_datagen.flow_from_directory(val_dir, target_size=(150,150), batch_size=20, class_mode=\"binary\")"
   ]
  },
  {
   "cell_type": "code",
   "execution_count": 10,
   "id": "2da735cc",
   "metadata": {
    "execution": {
     "iopub.execute_input": "2023-11-13T16:53:57.604449Z",
     "iopub.status.busy": "2023-11-13T16:53:57.603889Z",
     "iopub.status.idle": "2023-11-13T16:55:50.591747Z",
     "shell.execute_reply": "2023-11-13T16:55:50.590844Z"
    },
    "papermill": {
     "duration": 112.996096,
     "end_time": "2023-11-13T16:55:50.593872",
     "exception": false,
     "start_time": "2023-11-13T16:53:57.597776",
     "status": "completed"
    },
    "tags": []
   },
   "outputs": [
    {
     "name": "stdout",
     "output_type": "stream",
     "text": [
      "Epoch 1/20\n",
      "100/100 - 20s - loss: 0.2335 - accuracy: 0.9075 - val_loss: 0.0209 - val_accuracy: 0.9960 - 20s/epoch - 203ms/step\n",
      "Epoch 2/20\n",
      "100/100 - 5s - loss: 0.0346 - accuracy: 0.9880 - val_loss: 0.0094 - val_accuracy: 0.9990 - 5s/epoch - 47ms/step\n",
      "Epoch 3/20\n",
      "100/100 - 5s - loss: 0.0037 - accuracy: 1.0000 - val_loss: 8.4301e-04 - val_accuracy: 1.0000 - 5s/epoch - 47ms/step\n",
      "Epoch 4/20\n",
      "100/100 - 5s - loss: 8.4733e-04 - accuracy: 1.0000 - val_loss: 3.8201e-04 - val_accuracy: 1.0000 - 5s/epoch - 46ms/step\n",
      "Epoch 5/20\n",
      "100/100 - 5s - loss: 3.1586e-04 - accuracy: 1.0000 - val_loss: 1.8953e-04 - val_accuracy: 1.0000 - 5s/epoch - 48ms/step\n",
      "Epoch 6/20\n",
      "100/100 - 6s - loss: 2.0205e-04 - accuracy: 1.0000 - val_loss: 1.3683e-04 - val_accuracy: 1.0000 - 6s/epoch - 59ms/step\n",
      "Epoch 7/20\n",
      "100/100 - 5s - loss: 1.4863e-04 - accuracy: 1.0000 - val_loss: 9.8273e-05 - val_accuracy: 1.0000 - 5s/epoch - 48ms/step\n",
      "Epoch 8/20\n",
      "100/100 - 5s - loss: 1.2275e-04 - accuracy: 1.0000 - val_loss: 8.2308e-05 - val_accuracy: 1.0000 - 5s/epoch - 48ms/step\n",
      "Epoch 9/20\n",
      "100/100 - 5s - loss: 9.6511e-05 - accuracy: 1.0000 - val_loss: 6.7837e-05 - val_accuracy: 1.0000 - 5s/epoch - 49ms/step\n",
      "Epoch 10/20\n",
      "100/100 - 5s - loss: 8.8787e-05 - accuracy: 1.0000 - val_loss: 5.9274e-05 - val_accuracy: 1.0000 - 5s/epoch - 47ms/step\n",
      "Epoch 11/20\n",
      "100/100 - 5s - loss: 8.1917e-05 - accuracy: 1.0000 - val_loss: 5.1104e-05 - val_accuracy: 1.0000 - 5s/epoch - 46ms/step\n",
      "Epoch 12/20\n",
      "100/100 - 5s - loss: 6.4810e-05 - accuracy: 1.0000 - val_loss: 5.0594e-05 - val_accuracy: 1.0000 - 5s/epoch - 48ms/step\n",
      "Epoch 13/20\n",
      "100/100 - 5s - loss: 5.9563e-05 - accuracy: 1.0000 - val_loss: 3.6208e-05 - val_accuracy: 1.0000 - 5s/epoch - 47ms/step\n",
      "Epoch 14/20\n",
      "100/100 - 5s - loss: 4.9205e-05 - accuracy: 1.0000 - val_loss: 3.7100e-05 - val_accuracy: 1.0000 - 5s/epoch - 47ms/step\n",
      "Epoch 15/20\n",
      "100/100 - 5s - loss: 4.7314e-05 - accuracy: 1.0000 - val_loss: 3.7337e-05 - val_accuracy: 1.0000 - 5s/epoch - 46ms/step\n",
      "Epoch 16/20\n",
      "100/100 - 5s - loss: 4.2664e-05 - accuracy: 1.0000 - val_loss: 2.9792e-05 - val_accuracy: 1.0000 - 5s/epoch - 48ms/step\n",
      "Epoch 17/20\n",
      "100/100 - 6s - loss: 4.0203e-05 - accuracy: 1.0000 - val_loss: 3.1146e-05 - val_accuracy: 1.0000 - 6s/epoch - 56ms/step\n",
      "Epoch 18/20\n",
      "100/100 - 5s - loss: 3.7925e-05 - accuracy: 1.0000 - val_loss: 2.7458e-05 - val_accuracy: 1.0000 - 5s/epoch - 48ms/step\n",
      "Epoch 19/20\n",
      "100/100 - 5s - loss: 3.0992e-05 - accuracy: 1.0000 - val_loss: 2.3847e-05 - val_accuracy: 1.0000 - 5s/epoch - 49ms/step\n",
      "Epoch 20/20\n",
      "100/100 - 5s - loss: 3.2527e-05 - accuracy: 1.0000 - val_loss: 2.5474e-05 - val_accuracy: 1.0000 - 5s/epoch - 48ms/step\n"
     ]
    }
   ],
   "source": [
    "history = model.fit(\n",
    "            train_generator,\n",
    "            validation_data = val_generator,\n",
    "            steps_per_epoch = 100,\n",
    "            epochs = 20,\n",
    "            validation_steps = 50,\n",
    "            verbose = 2)"
   ]
  },
  {
   "cell_type": "code",
   "execution_count": 11,
   "id": "80e03fc5",
   "metadata": {
    "execution": {
     "iopub.execute_input": "2023-11-13T16:55:50.611592Z",
     "iopub.status.busy": "2023-11-13T16:55:50.611251Z",
     "iopub.status.idle": "2023-11-13T16:55:50.912718Z",
     "shell.execute_reply": "2023-11-13T16:55:50.911728Z"
    },
    "papermill": {
     "duration": 0.312602,
     "end_time": "2023-11-13T16:55:50.914882",
     "exception": false,
     "start_time": "2023-11-13T16:55:50.602280",
     "status": "completed"
    },
    "tags": []
   },
   "outputs": [
    {
     "data": {
      "text/plain": [
       "[<matplotlib.lines.Line2D at 0x7b2a68337910>]"
      ]
     },
     "execution_count": 11,
     "metadata": {},
     "output_type": "execute_result"
    },
    {
     "data": {
      "image/png": "[encoded data removed]",
      "text/plain": [
       "<Figure size 640x480 with 1 Axes>"
      ]
     },
     "metadata": {},
     "output_type": "display_data"
    }
   ],
   "source": [
    "import matplotlib.pyplot as plt\n",
    "plt.plot(history.history['accuracy'])\n",
    "plt.plot(history.history['val_accuracy'])"
   ]
  },
  {
   "cell_type": "code",
   "execution_count": null,
   "id": "37483ab1",
   "metadata": {
    "papermill": {
     "duration": 0.008356,
     "end_time": "2023-11-13T16:55:50.932802",
     "exception": false,
     "start_time": "2023-11-13T16:55:50.924446",
     "status": "completed"
    },
    "tags": []
   },
   "outputs": [],
   "source": []
  }
 ],
 "metadata": {
  "kaggle": {
   "accelerator": "nvidiaTeslaT4",
   "dataSources": [],
   "dockerImageVersionId": 30580,
   "isGpuEnabled": true,
   "isInternetEnabled": true,
   "language": "python",
   "sourceType": "notebook"
  },
  "kernelspec": {
   "display_name": "Python 3",
   "language": "python",
   "name": "python3"
  },
  "language_info": {
   "codemirror_mode": {
    "name": "ipython",
    "version": 3
   },
   "file_extension": ".py",
   "mimetype": "text/x-python",
   "name": "python",
   "nbconvert_exporter": "python",
   "pygments_lexer": "ipython3",
   "version": "3.10.12"
  },
  "papermill": {
   "default_parameters": {},
   "duration": 152.348923,
   "end_time": "2023-11-13T16:55:54.799602",
   "environment_variables": {},
   "exception": null,
   "input_path": "__notebook__.ipynb",
   "output_path": "__notebook__.ipynb",
   "parameters": {},
   "start_time": "2023-11-13T16:53:22.450679",
   "version": "2.4.0"
  }
 },
 "nbformat": 4,
 "nbformat_minor": 5
}
