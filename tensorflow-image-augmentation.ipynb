{
 "cells": [
  {
   "cell_type": "code",
   "execution_count": 1,
   "id": "2b68f4ee",
   "metadata": {
    "_cell_guid": "b1076dfc-b9ad-4769-8c92-a6c4dae69d19",
    "_uuid": "8f2839f25d086af736a60e9eeb907d3b93b6e0e5",
    "execution": {
     "iopub.execute_input": "2023-11-12T18:41:05.948211Z",
     "iopub.status.busy": "2023-11-12T18:41:05.947875Z",
     "iopub.status.idle": "2023-11-12T18:41:06.735040Z",
     "shell.execute_reply": "2023-11-12T18:41:06.734249Z"
    },
    "papermill": {
     "duration": 0.796181,
     "end_time": "2023-11-12T18:41:06.737380",
     "exception": false,
     "start_time": "2023-11-12T18:41:05.941199",
     "status": "completed"
    },
    "tags": []
   },
   "outputs": [],
   "source": [
    "# This Python 3 environment comes with many helpful analytics libraries installed\n",
    "# It is defined by the kaggle/python Docker image: https://github.com/kaggle/docker-python\n",
    "# For example, here's several helpful packages to load\n",
    "\n",
    "import numpy as np # linear algebra\n",
    "import pandas as pd # data processing, CSV file I/O (e.g. pd.read_csv)\n",
    "\n",
    "# Input data files are available in the read-only \"../input/\" directory\n",
    "# For example, running this (by clicking run or pressing Shift+Enter) will list all files under the input directory\n",
    "\n",
    "import os\n",
    "for dirname, _, filenames in os.walk('/kaggle/input'):\n",
    "    for filename in filenames:\n",
    "        print(os.path.join(dirname, filename))\n",
    "\n",
    "# You can write up to 20GB to the current directory (/kaggle/working/) that gets preserved as output when you create a version using \"Save & Run All\" \n",
    "# You can also write temporary files to /kaggle/temp/, but they won't be saved outside of the current session"
   ]
  },
  {
   "cell_type": "code",
   "execution_count": 2,
   "id": "394bb60b",
   "metadata": {
    "execution": {
     "iopub.execute_input": "2023-11-12T18:41:06.749502Z",
     "iopub.status.busy": "2023-11-12T18:41:06.749064Z",
     "iopub.status.idle": "2023-11-12T18:41:08.143215Z",
     "shell.execute_reply": "2023-11-12T18:41:08.142310Z"
    },
    "papermill": {
     "duration": 1.402516,
     "end_time": "2023-11-12T18:41:08.145577",
     "exception": false,
     "start_time": "2023-11-12T18:41:06.743061",
     "status": "completed"
    },
    "tags": []
   },
   "outputs": [
    {
     "name": "stdout",
     "output_type": "stream",
     "text": [
      "--2023-11-12 18:41:07--  https://storage.googleapis.com/tensorflow-1-public/course2/cats_and_dogs_filtered.zip\r\n",
      "Resolving storage.googleapis.com (storage.googleapis.com)... 173.194.194.207, 173.194.195.207, 173.194.196.207, ...\r\n",
      "Connecting to storage.googleapis.com (storage.googleapis.com)|173.194.194.207|:443... connected.\r\n",
      "HTTP request sent, awaiting response... 200 OK\r\n",
      "Length: 68606236 (65M) [application/zip]\r\n",
      "Saving to: ‘cats_and_dogs_filtered.zip’\r\n",
      "\r\n",
      "cats_and_dogs_filte 100%[===================>]  65.43M   207MB/s    in 0.3s    \r\n",
      "\r\n",
      "2023-11-12 18:41:08 (207 MB/s) - ‘cats_and_dogs_filtered.zip’ saved [68606236/68606236]\r\n",
      "\r\n"
     ]
    }
   ],
   "source": [
    "!wget https://storage.googleapis.com/tensorflow-1-public/course2/cats_and_dogs_filtered.zip"
   ]
  },
  {
   "cell_type": "code",
   "execution_count": 3,
   "id": "a0d772f0",
   "metadata": {
    "execution": {
     "iopub.execute_input": "2023-11-12T18:41:08.159431Z",
     "iopub.status.busy": "2023-11-12T18:41:08.158649Z",
     "iopub.status.idle": "2023-11-12T18:41:09.050163Z",
     "shell.execute_reply": "2023-11-12T18:41:09.049148Z"
    },
    "papermill": {
     "duration": 0.901173,
     "end_time": "2023-11-12T18:41:09.052590",
     "exception": false,
     "start_time": "2023-11-12T18:41:08.151417",
     "status": "completed"
    },
    "tags": []
   },
   "outputs": [],
   "source": [
    "import zipfile\n",
    "zipref = zipfile.ZipFile(\"./cats_and_dogs_filtered.zip\",\"r\")\n",
    "zipref.extractall(\"tmp/\")\n",
    "zipref.close()"
   ]
  },
  {
   "cell_type": "code",
   "execution_count": 4,
   "id": "1640344c",
   "metadata": {
    "execution": {
     "iopub.execute_input": "2023-11-12T18:41:09.065293Z",
     "iopub.status.busy": "2023-11-12T18:41:09.064993Z",
     "iopub.status.idle": "2023-11-12T18:41:10.043677Z",
     "shell.execute_reply": "2023-11-12T18:41:10.042722Z"
    },
    "papermill": {
     "duration": 0.987519,
     "end_time": "2023-11-12T18:41:10.045974",
     "exception": false,
     "start_time": "2023-11-12T18:41:09.058455",
     "status": "completed"
    },
    "tags": []
   },
   "outputs": [
    {
     "name": "stdout",
     "output_type": "stream",
     "text": [
      "total 67032\r\n",
      "drwxr-xr-x 3 root root     4096 Nov 12 18:41 .\r\n",
      "drwxr-xr-x 6 root root     4096 Nov 12 18:40 ..\r\n",
      "---------- 1 root root    18270 Nov 12 18:41 __notebook__.ipynb\r\n",
      "-rw-r--r-- 1 root root 68606236 Mar 23  2022 cats_and_dogs_filtered.zip\r\n",
      "drwxr-xr-x 3 root root     4096 Nov 12 18:41 tmp\r\n"
     ]
    }
   ],
   "source": [
    "!ls -la"
   ]
  },
  {
   "cell_type": "code",
   "execution_count": 5,
   "id": "5f9153ba",
   "metadata": {
    "execution": {
     "iopub.execute_input": "2023-11-12T18:41:10.058697Z",
     "iopub.status.busy": "2023-11-12T18:41:10.058353Z",
     "iopub.status.idle": "2023-11-12T18:41:10.062797Z",
     "shell.execute_reply": "2023-11-12T18:41:10.061952Z"
    },
    "papermill": {
     "duration": 0.013043,
     "end_time": "2023-11-12T18:41:10.064747",
     "exception": false,
     "start_time": "2023-11-12T18:41:10.051704",
     "status": "completed"
    },
    "tags": []
   },
   "outputs": [],
   "source": [
    "train = \"/kaggle/working/tmp/cats_and_dogs_filtered/train\"\n",
    "valid = \"/kaggle/working/tmp/cats_and_dogs_filtered/validation\""
   ]
  },
  {
   "cell_type": "code",
   "execution_count": 6,
   "id": "84c5eabb",
   "metadata": {
    "execution": {
     "iopub.execute_input": "2023-11-12T18:41:10.076776Z",
     "iopub.status.busy": "2023-11-12T18:41:10.076513Z",
     "iopub.status.idle": "2023-11-12T18:41:22.769335Z",
     "shell.execute_reply": "2023-11-12T18:41:22.768546Z"
    },
    "papermill": {
     "duration": 12.701399,
     "end_time": "2023-11-12T18:41:22.771693",
     "exception": false,
     "start_time": "2023-11-12T18:41:10.070294",
     "status": "completed"
    },
    "tags": []
   },
   "outputs": [
    {
     "name": "stderr",
     "output_type": "stream",
     "text": [
      "/opt/conda/lib/python3.10/site-packages/scipy/__init__.py:146: UserWarning: A NumPy version >=1.16.5 and <1.23.0 is required for this version of SciPy (detected version 1.24.3\n",
      "  warnings.warn(f\"A NumPy version >={np_minversion} and <{np_maxversion}\"\n"
     ]
    }
   ],
   "source": [
    "import tensorflow as tf\n",
    "import tensorflow.keras as keras\n",
    "from tensorflow.keras.preprocessing.image import ImageDataGenerator"
   ]
  },
  {
   "cell_type": "code",
   "execution_count": 7,
   "id": "db21671e",
   "metadata": {
    "execution": {
     "iopub.execute_input": "2023-11-12T18:41:22.785422Z",
     "iopub.status.busy": "2023-11-12T18:41:22.784874Z",
     "iopub.status.idle": "2023-11-12T18:41:22.886539Z",
     "shell.execute_reply": "2023-11-12T18:41:22.885763Z"
    },
    "papermill": {
     "duration": 0.110695,
     "end_time": "2023-11-12T18:41:22.888600",
     "exception": false,
     "start_time": "2023-11-12T18:41:22.777905",
     "status": "completed"
    },
    "tags": []
   },
   "outputs": [
    {
     "name": "stdout",
     "output_type": "stream",
     "text": [
      "Found 2000 images belonging to 2 classes.\n",
      "Found 1000 images belonging to 2 classes.\n"
     ]
    }
   ],
   "source": [
    "train_datagen = ImageDataGenerator(rescale=1.0/255)\n",
    "val_datagen = ImageDataGenerator(rescale=1.0/255)\n",
    "\n",
    "train_generator = train_datagen.flow_from_directory(train, target_size=(150,150), batch_size=20, class_mode=\"binary\")\n",
    "val_generator = val_datagen.flow_from_directory(valid, target_size = (150,150), batch_size=20, class_mode = \"binary\")"
   ]
  },
  {
   "cell_type": "code",
   "execution_count": 8,
   "id": "e785301f",
   "metadata": {
    "execution": {
     "iopub.execute_input": "2023-11-12T18:41:22.901880Z",
     "iopub.status.busy": "2023-11-12T18:41:22.901616Z",
     "iopub.status.idle": "2023-11-12T18:41:27.074880Z",
     "shell.execute_reply": "2023-11-12T18:41:27.073851Z"
    },
    "papermill": {
     "duration": 4.18258,
     "end_time": "2023-11-12T18:41:27.077276",
     "exception": false,
     "start_time": "2023-11-12T18:41:22.894696",
     "status": "completed"
    },
    "tags": []
   },
   "outputs": [],
   "source": [
    "model = keras.models.Sequential([\n",
    "    keras.layers.Conv2D(64,(3,3), activation=\"relu\",input_shape = (150,150, 3)),\n",
    "    keras.layers.MaxPooling2D(2,2),\n",
    "    keras.layers.Conv2D(64,(3,3), activation=\"relu\"),\n",
    "    keras.layers.MaxPooling2D(2,2),\n",
    "    keras.layers.Conv2D(128,(3,3), activation=\"relu\"),\n",
    "    keras.layers.MaxPooling2D(2,2),\n",
    "    keras.layers.Conv2D(128,(3,3), activation=\"relu\"),\n",
    "    keras.layers.MaxPooling2D(2,2),\n",
    "    keras.layers.Flatten(),\n",
    "    keras.layers.Dense(512,activation=\"relu\"),\n",
    "    keras.layers.Dense(1,activation=\"sigmoid\")\n",
    "])\n",
    "model.compile(optimizer=\"rmsprop\", loss=\"binary_crossentropy\", metrics=[\"accuracy\"])"
   ]
  },
  {
   "cell_type": "code",
   "execution_count": 9,
   "id": "f74901ef",
   "metadata": {
    "execution": {
     "iopub.execute_input": "2023-11-12T18:41:27.090516Z",
     "iopub.status.busy": "2023-11-12T18:41:27.089955Z",
     "iopub.status.idle": "2023-11-12T18:43:12.126145Z",
     "shell.execute_reply": "2023-11-12T18:43:12.125368Z"
    },
    "papermill": {
     "duration": 105.044928,
     "end_time": "2023-11-12T18:43:12.128209",
     "exception": false,
     "start_time": "2023-11-12T18:41:27.083281",
     "status": "completed"
    },
    "tags": []
   },
   "outputs": [
    {
     "name": "stdout",
     "output_type": "stream",
     "text": [
      "Epoch 1/20\n",
      "100/100 [==============================] - 16s 49ms/step - loss: 0.8090 - accuracy: 0.5060 - val_loss: 0.6923 - val_accuracy: 0.5010\n",
      "Epoch 2/20\n",
      "100/100 [==============================] - 5s 47ms/step - loss: 0.6948 - accuracy: 0.5015 - val_loss: 0.6923 - val_accuracy: 0.5000\n",
      "Epoch 3/20\n",
      "100/100 [==============================] - 5s 47ms/step - loss: 0.6930 - accuracy: 0.5145 - val_loss: 0.6822 - val_accuracy: 0.6070\n",
      "Epoch 4/20\n",
      "100/100 [==============================] - 5s 47ms/step - loss: 0.6717 - accuracy: 0.5975 - val_loss: 0.6444 - val_accuracy: 0.6410\n",
      "Epoch 5/20\n",
      "100/100 [==============================] - 5s 46ms/step - loss: 0.6324 - accuracy: 0.6410 - val_loss: 0.6240 - val_accuracy: 0.6610\n",
      "Epoch 6/20\n",
      "100/100 [==============================] - 5s 48ms/step - loss: 0.5965 - accuracy: 0.6840 - val_loss: 0.6034 - val_accuracy: 0.6900\n",
      "Epoch 7/20\n",
      "100/100 [==============================] - 5s 46ms/step - loss: 0.5550 - accuracy: 0.7055 - val_loss: 0.5817 - val_accuracy: 0.6690\n",
      "Epoch 8/20\n",
      "100/100 [==============================] - 5s 46ms/step - loss: 0.4999 - accuracy: 0.7590 - val_loss: 0.5625 - val_accuracy: 0.7270\n",
      "Epoch 9/20\n",
      "100/100 [==============================] - 5s 46ms/step - loss: 0.4575 - accuracy: 0.7885 - val_loss: 0.6042 - val_accuracy: 0.7140\n",
      "Epoch 10/20\n",
      "100/100 [==============================] - 5s 47ms/step - loss: 0.3846 - accuracy: 0.8260 - val_loss: 0.7279 - val_accuracy: 0.7020\n",
      "Epoch 11/20\n",
      "100/100 [==============================] - 5s 46ms/step - loss: 0.3292 - accuracy: 0.8570 - val_loss: 0.6260 - val_accuracy: 0.7060\n",
      "Epoch 12/20\n",
      "100/100 [==============================] - 5s 46ms/step - loss: 0.2556 - accuracy: 0.8935 - val_loss: 0.7461 - val_accuracy: 0.6950\n",
      "Epoch 13/20\n",
      "100/100 [==============================] - 5s 47ms/step - loss: 0.2109 - accuracy: 0.9320 - val_loss: 1.1245 - val_accuracy: 0.7000\n",
      "Epoch 14/20\n",
      "100/100 [==============================] - 5s 46ms/step - loss: 0.1320 - accuracy: 0.9550 - val_loss: 1.4522 - val_accuracy: 0.6850\n",
      "Epoch 15/20\n",
      "100/100 [==============================] - 5s 46ms/step - loss: 0.1069 - accuracy: 0.9620 - val_loss: 1.1758 - val_accuracy: 0.7130\n",
      "Epoch 16/20\n",
      "100/100 [==============================] - 5s 47ms/step - loss: 0.0577 - accuracy: 0.9815 - val_loss: 1.5375 - val_accuracy: 0.7140\n",
      "Epoch 17/20\n",
      "100/100 [==============================] - 5s 46ms/step - loss: 0.0684 - accuracy: 0.9790 - val_loss: 1.8506 - val_accuracy: 0.6590\n",
      "Epoch 18/20\n",
      "100/100 [==============================] - 5s 47ms/step - loss: 0.0387 - accuracy: 0.9840 - val_loss: 1.7631 - val_accuracy: 0.7110\n",
      "Epoch 19/20\n",
      "100/100 [==============================] - 4s 45ms/step - loss: 0.0669 - accuracy: 0.9825 - val_loss: 2.0324 - val_accuracy: 0.7130\n",
      "Epoch 20/20\n",
      "100/100 [==============================] - 5s 48ms/step - loss: 0.0463 - accuracy: 0.9830 - val_loss: 1.7894 - val_accuracy: 0.6790\n"
     ]
    }
   ],
   "source": [
    "history = model.fit(train_generator, steps_per_epoch=100, epochs=20, validation_data=val_generator)"
   ]
  },
  {
   "cell_type": "code",
   "execution_count": 10,
   "id": "d3e587d2",
   "metadata": {
    "execution": {
     "iopub.execute_input": "2023-11-12T18:43:12.358305Z",
     "iopub.status.busy": "2023-11-12T18:43:12.357904Z",
     "iopub.status.idle": "2023-11-12T18:43:12.648621Z",
     "shell.execute_reply": "2023-11-12T18:43:12.647768Z"
    },
    "papermill": {
     "duration": 0.387794,
     "end_time": "2023-11-12T18:43:12.650631",
     "exception": false,
     "start_time": "2023-11-12T18:43:12.262837",
     "status": "completed"
    },
    "tags": []
   },
   "outputs": [
    {
     "data": {
      "text/plain": [
       "[<matplotlib.lines.Line2D at 0x7c4cebf2df30>]"
      ]
     },
     "execution_count": 10,
     "metadata": {},
     "output_type": "execute_result"
    },
    {
     "data": {
      "image/png": "[encoded data removed]",
      "text/plain": [
       "<Figure size 640x480 with 1 Axes>"
      ]
     },
     "metadata": {},
     "output_type": "display_data"
    }
   ],
   "source": [
    "import matplotlib.pyplot as plt\n",
    "plt.plot(history.history['accuracy'])\n",
    "plt.plot(history.history['val_accuracy'])"
   ]
  },
  {
   "cell_type": "code",
   "execution_count": 11,
   "id": "fa34f61e",
   "metadata": {
    "execution": {
     "iopub.execute_input": "2023-11-12T18:43:12.832036Z",
     "iopub.status.busy": "2023-11-12T18:43:12.831213Z",
     "iopub.status.idle": "2023-11-12T18:43:12.898475Z",
     "shell.execute_reply": "2023-11-12T18:43:12.897689Z"
    },
    "papermill": {
     "duration": 0.15914,
     "end_time": "2023-11-12T18:43:12.900477",
     "exception": false,
     "start_time": "2023-11-12T18:43:12.741337",
     "status": "completed"
    },
    "tags": []
   },
   "outputs": [
    {
     "name": "stdout",
     "output_type": "stream",
     "text": [
      "Found 2000 images belonging to 2 classes.\n"
     ]
    }
   ],
   "source": [
    "train_datagen = ImageDataGenerator(rescale=1.0/255,\n",
    "                                   rotation_range=40,\n",
    "                                   width_shift_range=0.2,\n",
    "                                   height_shift_range=0.2,\n",
    "                                   shear_range=0.2,\n",
    "                                   zoom_range=0.2,\n",
    "                                   horizontal_flip=True,\n",
    "                                   fill_mode='nearest'\n",
    "                                  )\n",
    "train_generator = train_datagen.flow_from_directory(train, target_size=(150,150), batch_size=20, class_mode=\"binary\")"
   ]
  },
  {
   "cell_type": "code",
   "execution_count": 12,
   "id": "94cd77f1",
   "metadata": {
    "execution": {
     "iopub.execute_input": "2023-11-12T18:43:13.082196Z",
     "iopub.status.busy": "2023-11-12T18:43:13.081414Z",
     "iopub.status.idle": "2023-11-12T18:54:41.059084Z",
     "shell.execute_reply": "2023-11-12T18:54:41.058194Z"
    },
    "papermill": {
     "duration": 688.070962,
     "end_time": "2023-11-12T18:54:41.061183",
     "exception": false,
     "start_time": "2023-11-12T18:43:12.990221",
     "status": "completed"
    },
    "tags": []
   },
   "outputs": [
    {
     "name": "stdout",
     "output_type": "stream",
     "text": [
      "Epoch 1/50\n",
      "100/100 [==============================] - 14s 137ms/step - loss: 0.7191 - accuracy: 0.6185 - val_loss: 0.5579 - val_accuracy: 0.7400\n",
      "Epoch 2/50\n",
      "100/100 [==============================] - 14s 139ms/step - loss: 0.6453 - accuracy: 0.6865 - val_loss: 0.5793 - val_accuracy: 0.6930\n",
      "Epoch 3/50\n",
      "100/100 [==============================] - 14s 137ms/step - loss: 0.6107 - accuracy: 0.6800 - val_loss: 0.5702 - val_accuracy: 0.6750\n",
      "Epoch 4/50\n",
      "100/100 [==============================] - 13s 135ms/step - loss: 0.5986 - accuracy: 0.6865 - val_loss: 0.5157 - val_accuracy: 0.7490\n",
      "Epoch 5/50\n",
      "100/100 [==============================] - 14s 139ms/step - loss: 0.5800 - accuracy: 0.7085 - val_loss: 0.5051 - val_accuracy: 0.7410\n",
      "Epoch 6/50\n",
      "100/100 [==============================] - 14s 137ms/step - loss: 0.5642 - accuracy: 0.7205 - val_loss: 0.5296 - val_accuracy: 0.7280\n",
      "Epoch 7/50\n",
      "100/100 [==============================] - 14s 138ms/step - loss: 0.5630 - accuracy: 0.7215 - val_loss: 0.6096 - val_accuracy: 0.6770\n",
      "Epoch 8/50\n",
      "100/100 [==============================] - 14s 138ms/step - loss: 0.5604 - accuracy: 0.7260 - val_loss: 0.4754 - val_accuracy: 0.7650\n",
      "Epoch 9/50\n",
      "100/100 [==============================] - 14s 139ms/step - loss: 0.5500 - accuracy: 0.7275 - val_loss: 0.4863 - val_accuracy: 0.7650\n",
      "Epoch 10/50\n",
      "100/100 [==============================] - 14s 136ms/step - loss: 0.5457 - accuracy: 0.7305 - val_loss: 0.4630 - val_accuracy: 0.7860\n",
      "Epoch 11/50\n",
      "100/100 [==============================] - 14s 137ms/step - loss: 0.5323 - accuracy: 0.7365 - val_loss: 0.4584 - val_accuracy: 0.7800\n",
      "Epoch 12/50\n",
      "100/100 [==============================] - 14s 137ms/step - loss: 0.5378 - accuracy: 0.7415 - val_loss: 0.4667 - val_accuracy: 0.7770\n",
      "Epoch 13/50\n",
      "100/100 [==============================] - 13s 134ms/step - loss: 0.5239 - accuracy: 0.7570 - val_loss: 0.5237 - val_accuracy: 0.7560\n",
      "Epoch 14/50\n",
      "100/100 [==============================] - 14s 138ms/step - loss: 0.5103 - accuracy: 0.7465 - val_loss: 0.4627 - val_accuracy: 0.7910\n",
      "Epoch 15/50\n",
      "100/100 [==============================] - 14s 135ms/step - loss: 0.5160 - accuracy: 0.7580 - val_loss: 0.4489 - val_accuracy: 0.7720\n",
      "Epoch 16/50\n",
      "100/100 [==============================] - 14s 138ms/step - loss: 0.4924 - accuracy: 0.7685 - val_loss: 0.4514 - val_accuracy: 0.7930\n",
      "Epoch 17/50\n",
      "100/100 [==============================] - 14s 137ms/step - loss: 0.5049 - accuracy: 0.7725 - val_loss: 0.4723 - val_accuracy: 0.7810\n",
      "Epoch 18/50\n",
      "100/100 [==============================] - 14s 137ms/step - loss: 0.4907 - accuracy: 0.7665 - val_loss: 0.4847 - val_accuracy: 0.7850\n",
      "Epoch 19/50\n",
      "100/100 [==============================] - 14s 136ms/step - loss: 0.5373 - accuracy: 0.7645 - val_loss: 0.4587 - val_accuracy: 0.7780\n",
      "Epoch 20/50\n",
      "100/100 [==============================] - 14s 136ms/step - loss: 0.4891 - accuracy: 0.7730 - val_loss: 0.5370 - val_accuracy: 0.7540\n",
      "Epoch 21/50\n",
      "100/100 [==============================] - 14s 139ms/step - loss: 0.4924 - accuracy: 0.7745 - val_loss: 0.4877 - val_accuracy: 0.7780\n",
      "Epoch 22/50\n",
      "100/100 [==============================] - 14s 137ms/step - loss: 0.4839 - accuracy: 0.7715 - val_loss: 0.7366 - val_accuracy: 0.6950\n",
      "Epoch 23/50\n",
      "100/100 [==============================] - 14s 138ms/step - loss: 0.4505 - accuracy: 0.7865 - val_loss: 0.4635 - val_accuracy: 0.7890\n",
      "Epoch 24/50\n",
      "100/100 [==============================] - 14s 136ms/step - loss: 0.4594 - accuracy: 0.7970 - val_loss: 0.4498 - val_accuracy: 0.7940\n",
      "Epoch 25/50\n",
      "100/100 [==============================] - 14s 137ms/step - loss: 0.4585 - accuracy: 0.7855 - val_loss: 0.4523 - val_accuracy: 0.7960\n",
      "Epoch 26/50\n",
      "100/100 [==============================] - 14s 137ms/step - loss: 0.4377 - accuracy: 0.8065 - val_loss: 0.7340 - val_accuracy: 0.7290\n",
      "Epoch 27/50\n",
      "100/100 [==============================] - 15s 147ms/step - loss: 0.4587 - accuracy: 0.7940 - val_loss: 0.4231 - val_accuracy: 0.8050\n",
      "Epoch 28/50\n",
      "100/100 [==============================] - 14s 138ms/step - loss: 0.4649 - accuracy: 0.7915 - val_loss: 0.4194 - val_accuracy: 0.8030\n",
      "Epoch 29/50\n",
      "100/100 [==============================] - 14s 136ms/step - loss: 0.4443 - accuracy: 0.7865 - val_loss: 0.4489 - val_accuracy: 0.7750\n",
      "Epoch 30/50\n",
      "100/100 [==============================] - 14s 138ms/step - loss: 0.4932 - accuracy: 0.7800 - val_loss: 0.4190 - val_accuracy: 0.8010\n",
      "Epoch 31/50\n",
      "100/100 [==============================] - 14s 137ms/step - loss: 0.4613 - accuracy: 0.7905 - val_loss: 0.4080 - val_accuracy: 0.8260\n",
      "Epoch 32/50\n",
      "100/100 [==============================] - 14s 137ms/step - loss: 0.4398 - accuracy: 0.8055 - val_loss: 0.3966 - val_accuracy: 0.8230\n",
      "Epoch 33/50\n",
      "100/100 [==============================] - 14s 136ms/step - loss: 0.4322 - accuracy: 0.8045 - val_loss: 0.4810 - val_accuracy: 0.7800\n",
      "Epoch 34/50\n",
      "100/100 [==============================] - 14s 140ms/step - loss: 0.4425 - accuracy: 0.7985 - val_loss: 0.4124 - val_accuracy: 0.8180\n",
      "Epoch 35/50\n",
      "100/100 [==============================] - 14s 136ms/step - loss: 0.4089 - accuracy: 0.8180 - val_loss: 0.5017 - val_accuracy: 0.7950\n",
      "Epoch 36/50\n",
      "100/100 [==============================] - 14s 137ms/step - loss: 0.4359 - accuracy: 0.8100 - val_loss: 0.3598 - val_accuracy: 0.8440\n",
      "Epoch 37/50\n",
      "100/100 [==============================] - 14s 136ms/step - loss: 0.4023 - accuracy: 0.8170 - val_loss: 0.4780 - val_accuracy: 0.8060\n",
      "Epoch 38/50\n",
      "100/100 [==============================] - 14s 137ms/step - loss: 0.4328 - accuracy: 0.8140 - val_loss: 0.4353 - val_accuracy: 0.8200\n",
      "Epoch 39/50\n",
      "100/100 [==============================] - 14s 138ms/step - loss: 0.4050 - accuracy: 0.8180 - val_loss: 0.4866 - val_accuracy: 0.8230\n",
      "Epoch 40/50\n",
      "100/100 [==============================] - 14s 136ms/step - loss: 0.3974 - accuracy: 0.8315 - val_loss: 0.4305 - val_accuracy: 0.8320\n",
      "Epoch 41/50\n",
      "100/100 [==============================] - 14s 137ms/step - loss: 0.4222 - accuracy: 0.8105 - val_loss: 0.4272 - val_accuracy: 0.8020\n",
      "Epoch 42/50\n",
      "100/100 [==============================] - 14s 136ms/step - loss: 0.4017 - accuracy: 0.8280 - val_loss: 0.3835 - val_accuracy: 0.8390\n",
      "Epoch 43/50\n",
      "100/100 [==============================] - 14s 139ms/step - loss: 0.4155 - accuracy: 0.8200 - val_loss: 0.4993 - val_accuracy: 0.7920\n",
      "Epoch 44/50\n",
      "100/100 [==============================] - 14s 136ms/step - loss: 0.3999 - accuracy: 0.8230 - val_loss: 0.4114 - val_accuracy: 0.8490\n",
      "Epoch 45/50\n",
      "100/100 [==============================] - 14s 137ms/step - loss: 0.4007 - accuracy: 0.8215 - val_loss: 0.5423 - val_accuracy: 0.7350\n",
      "Epoch 46/50\n",
      "100/100 [==============================] - 14s 137ms/step - loss: 0.4199 - accuracy: 0.8195 - val_loss: 0.4422 - val_accuracy: 0.7920\n",
      "Epoch 47/50\n",
      "100/100 [==============================] - 14s 138ms/step - loss: 0.4148 - accuracy: 0.8140 - val_loss: 0.4388 - val_accuracy: 0.8060\n",
      "Epoch 48/50\n",
      "100/100 [==============================] - 14s 137ms/step - loss: 0.3924 - accuracy: 0.8245 - val_loss: 0.4815 - val_accuracy: 0.8250\n",
      "Epoch 49/50\n",
      "100/100 [==============================] - 14s 137ms/step - loss: 0.3790 - accuracy: 0.8300 - val_loss: 0.4137 - val_accuracy: 0.8400\n",
      "Epoch 50/50\n",
      "100/100 [==============================] - 14s 138ms/step - loss: 0.3998 - accuracy: 0.8285 - val_loss: 0.3848 - val_accuracy: 0.8530\n"
     ]
    }
   ],
   "source": [
    "history = model.fit(train_generator, steps_per_epoch=100, epochs=50, validation_data=val_generator)"
   ]
  },
  {
   "cell_type": "code",
   "execution_count": 13,
   "id": "16e0519a",
   "metadata": {
    "execution": {
     "iopub.execute_input": "2023-11-12T18:54:42.130413Z",
     "iopub.status.busy": "2023-11-12T18:54:42.130027Z",
     "iopub.status.idle": "2023-11-12T18:54:42.392999Z",
     "shell.execute_reply": "2023-11-12T18:54:42.392059Z"
    },
    "papermill": {
     "duration": 0.7767,
     "end_time": "2023-11-12T18:54:42.394992",
     "exception": false,
     "start_time": "2023-11-12T18:54:41.618292",
     "status": "completed"
    },
    "tags": []
   },
   "outputs": [
    {
     "data": {
      "text/plain": [
       "[<matplotlib.lines.Line2D at 0x7c4ce856f580>]"
      ]
     },
     "execution_count": 13,
     "metadata": {},
     "output_type": "execute_result"
    },
    {
     "data": {
      "image/png": "[encoded data removed]",
      "text/plain": [
       "<Figure size 640x480 with 1 Axes>"
      ]
     },
     "metadata": {},
     "output_type": "display_data"
    }
   ],
   "source": [
    "plt.plot(history.history['accuracy'])\n",
    "plt.plot(history.history['val_accuracy'])"
   ]
  },
  {
   "cell_type": "code",
   "execution_count": 14,
   "id": "1fb8ca6d",
   "metadata": {
    "execution": {
     "iopub.execute_input": "2023-11-12T18:54:43.394487Z",
     "iopub.status.busy": "2023-11-12T18:54:43.393760Z",
     "iopub.status.idle": "2023-11-12T18:54:43.430175Z",
     "shell.execute_reply": "2023-11-12T18:54:43.429415Z"
    },
    "papermill": {
     "duration": 0.537966,
     "end_time": "2023-11-12T18:54:43.432144",
     "exception": false,
     "start_time": "2023-11-12T18:54:42.894178",
     "status": "completed"
    },
    "tags": []
   },
   "outputs": [],
   "source": [
    "model = keras.models.Sequential([\n",
    "    keras.layers.RandomRotation(factor=(-0.4,0.4), fill_mode=\"nearest\"),\n",
    "    keras.layers.RandomFlip(mode=\"horizontal\"),\n",
    "    keras.layers.RandomZoom(height_factor=(0.2,0.3), width_factor=(0.2,0.3),fill_mode=\"nearest\"),\n",
    "    keras.layers.Conv2D(64,(3,3), activation=\"relu\",input_shape = (150,150, 3)),\n",
    "    keras.layers.MaxPooling2D(2,2),\n",
    "    keras.layers.Conv2D(64,(3,3), activation=\"relu\"),\n",
    "    keras.layers.MaxPooling2D(2,2),\n",
    "    keras.layers.Conv2D(128,(3,3), activation=\"relu\"),\n",
    "    keras.layers.MaxPooling2D(2,2),\n",
    "    keras.layers.Conv2D(128,(3,3), activation=\"relu\"),\n",
    "    keras.layers.MaxPooling2D(2,2),\n",
    "    keras.layers.Flatten(),\n",
    "    keras.layers.Dense(512,activation=\"relu\"),\n",
    "    keras.layers.Dense(1,activation=\"sigmoid\")\n",
    "])\n",
    "model.compile(optimizer=\"rmsprop\", loss=\"binary_crossentropy\", metrics=[\"accuracy\"])"
   ]
  },
  {
   "cell_type": "code",
   "execution_count": 15,
   "id": "bdbf9d08",
   "metadata": {
    "execution": {
     "iopub.execute_input": "2023-11-12T18:54:44.446801Z",
     "iopub.status.busy": "2023-11-12T18:54:44.446424Z",
     "iopub.status.idle": "2023-11-12T18:58:42.040994Z",
     "shell.execute_reply": "2023-11-12T18:58:42.040107Z"
    },
    "papermill": {
     "duration": 238.103266,
     "end_time": "2023-11-12T18:58:42.043316",
     "exception": false,
     "start_time": "2023-11-12T18:54:43.940050",
     "status": "completed"
    },
    "tags": []
   },
   "outputs": [
    {
     "name": "stdout",
     "output_type": "stream",
     "text": [
      "Found 2000 images belonging to 2 classes.\n",
      "Epoch 1/50\n",
      "100/100 [==============================] - 7s 49ms/step - loss: 0.6959 - accuracy: 0.5200 - val_loss: 0.6942 - val_accuracy: 0.5000\n",
      "Epoch 2/50\n",
      "100/100 [==============================] - 5s 47ms/step - loss: 0.6951 - accuracy: 0.5050 - val_loss: 0.6918 - val_accuracy: 0.5160\n",
      "Epoch 3/50\n",
      "100/100 [==============================] - 5s 48ms/step - loss: 0.6922 - accuracy: 0.5210 - val_loss: 0.6787 - val_accuracy: 0.5980\n",
      "Epoch 4/50\n",
      "100/100 [==============================] - 5s 46ms/step - loss: 0.6892 - accuracy: 0.5970 - val_loss: 0.6631 - val_accuracy: 0.6190\n",
      "Epoch 5/50\n",
      "100/100 [==============================] - 5s 48ms/step - loss: 0.6525 - accuracy: 0.6190 - val_loss: 0.6430 - val_accuracy: 0.6250\n",
      "Epoch 6/50\n",
      "100/100 [==============================] - 5s 46ms/step - loss: 0.6401 - accuracy: 0.6360 - val_loss: 0.6130 - val_accuracy: 0.6450\n",
      "Epoch 7/50\n",
      "100/100 [==============================] - 5s 47ms/step - loss: 0.6217 - accuracy: 0.6575 - val_loss: 0.6114 - val_accuracy: 0.6540\n",
      "Epoch 8/50\n",
      "100/100 [==============================] - 5s 47ms/step - loss: 0.6136 - accuracy: 0.6660 - val_loss: 0.6085 - val_accuracy: 0.6550\n",
      "Epoch 9/50\n",
      "100/100 [==============================] - 5s 47ms/step - loss: 0.6096 - accuracy: 0.6685 - val_loss: 0.5899 - val_accuracy: 0.6760\n",
      "Epoch 10/50\n",
      "100/100 [==============================] - 5s 46ms/step - loss: 0.6036 - accuracy: 0.6850 - val_loss: 0.5979 - val_accuracy: 0.6940\n",
      "Epoch 11/50\n",
      "100/100 [==============================] - 5s 46ms/step - loss: 0.5906 - accuracy: 0.6820 - val_loss: 0.6022 - val_accuracy: 0.6660\n",
      "Epoch 12/50\n",
      "100/100 [==============================] - 5s 48ms/step - loss: 0.5851 - accuracy: 0.6910 - val_loss: 0.6181 - val_accuracy: 0.6750\n",
      "Epoch 13/50\n",
      "100/100 [==============================] - 5s 47ms/step - loss: 0.5875 - accuracy: 0.6960 - val_loss: 0.5974 - val_accuracy: 0.6850\n",
      "Epoch 14/50\n",
      "100/100 [==============================] - 5s 46ms/step - loss: 0.5731 - accuracy: 0.7095 - val_loss: 0.5989 - val_accuracy: 0.6500\n",
      "Epoch 15/50\n",
      "100/100 [==============================] - 5s 46ms/step - loss: 0.5701 - accuracy: 0.7010 - val_loss: 0.6245 - val_accuracy: 0.6580\n",
      "Epoch 16/50\n",
      "100/100 [==============================] - 5s 47ms/step - loss: 0.5773 - accuracy: 0.7150 - val_loss: 0.5752 - val_accuracy: 0.7150\n",
      "Epoch 17/50\n",
      "100/100 [==============================] - 5s 46ms/step - loss: 0.5689 - accuracy: 0.7190 - val_loss: 0.5642 - val_accuracy: 0.7080\n",
      "Epoch 18/50\n",
      "100/100 [==============================] - 5s 48ms/step - loss: 0.5678 - accuracy: 0.7035 - val_loss: 0.5815 - val_accuracy: 0.6960\n",
      "Epoch 19/50\n",
      "100/100 [==============================] - 5s 46ms/step - loss: 0.5565 - accuracy: 0.7150 - val_loss: 0.7044 - val_accuracy: 0.6210\n",
      "Epoch 20/50\n",
      "100/100 [==============================] - 5s 48ms/step - loss: 0.5521 - accuracy: 0.7305 - val_loss: 0.7340 - val_accuracy: 0.6210\n",
      "Epoch 21/50\n",
      "100/100 [==============================] - 5s 46ms/step - loss: 0.5616 - accuracy: 0.7290 - val_loss: 0.5723 - val_accuracy: 0.7090\n",
      "Epoch 22/50\n",
      "100/100 [==============================] - 5s 47ms/step - loss: 0.5379 - accuracy: 0.7210 - val_loss: 0.6381 - val_accuracy: 0.6800\n",
      "Epoch 23/50\n",
      "100/100 [==============================] - 5s 45ms/step - loss: 0.5356 - accuracy: 0.7370 - val_loss: 0.5583 - val_accuracy: 0.7130\n",
      "Epoch 24/50\n",
      "100/100 [==============================] - 5s 47ms/step - loss: 0.5439 - accuracy: 0.7255 - val_loss: 0.5566 - val_accuracy: 0.7220\n",
      "Epoch 25/50\n",
      "100/100 [==============================] - 5s 47ms/step - loss: 0.5286 - accuracy: 0.7490 - val_loss: 0.6048 - val_accuracy: 0.6920\n",
      "Epoch 26/50\n",
      "100/100 [==============================] - 5s 46ms/step - loss: 0.5294 - accuracy: 0.7470 - val_loss: 0.6017 - val_accuracy: 0.6830\n",
      "Epoch 27/50\n",
      "100/100 [==============================] - 5s 47ms/step - loss: 0.5211 - accuracy: 0.7345 - val_loss: 0.5707 - val_accuracy: 0.7230\n",
      "Epoch 28/50\n",
      "100/100 [==============================] - 5s 47ms/step - loss: 0.5248 - accuracy: 0.7415 - val_loss: 0.5673 - val_accuracy: 0.7190\n",
      "Epoch 29/50\n",
      "100/100 [==============================] - 5s 46ms/step - loss: 0.5231 - accuracy: 0.7535 - val_loss: 0.5536 - val_accuracy: 0.7360\n",
      "Epoch 30/50\n",
      "100/100 [==============================] - 5s 46ms/step - loss: 0.5071 - accuracy: 0.7480 - val_loss: 0.5473 - val_accuracy: 0.7250\n",
      "Epoch 31/50\n",
      "100/100 [==============================] - 5s 46ms/step - loss: 0.5037 - accuracy: 0.7580 - val_loss: 0.6000 - val_accuracy: 0.7120\n",
      "Epoch 32/50\n",
      "100/100 [==============================] - 5s 48ms/step - loss: 0.5022 - accuracy: 0.7640 - val_loss: 0.5427 - val_accuracy: 0.7300\n",
      "Epoch 33/50\n",
      "100/100 [==============================] - 5s 46ms/step - loss: 0.4962 - accuracy: 0.7560 - val_loss: 0.5531 - val_accuracy: 0.7220\n",
      "Epoch 34/50\n",
      "100/100 [==============================] - 5s 46ms/step - loss: 0.4875 - accuracy: 0.7610 - val_loss: 0.5796 - val_accuracy: 0.6920\n",
      "Epoch 35/50\n",
      "100/100 [==============================] - 5s 46ms/step - loss: 0.4825 - accuracy: 0.7695 - val_loss: 0.5797 - val_accuracy: 0.6980\n",
      "Epoch 36/50\n",
      "100/100 [==============================] - 5s 47ms/step - loss: 0.4816 - accuracy: 0.7695 - val_loss: 0.6484 - val_accuracy: 0.7060\n",
      "Epoch 37/50\n",
      "100/100 [==============================] - 5s 48ms/step - loss: 0.4815 - accuracy: 0.7675 - val_loss: 0.5456 - val_accuracy: 0.7410\n",
      "Epoch 38/50\n",
      "100/100 [==============================] - 5s 47ms/step - loss: 0.4529 - accuracy: 0.7925 - val_loss: 0.6695 - val_accuracy: 0.6630\n",
      "Epoch 39/50\n",
      "100/100 [==============================] - 5s 47ms/step - loss: 0.4768 - accuracy: 0.7870 - val_loss: 0.5587 - val_accuracy: 0.7110\n",
      "Epoch 40/50\n",
      "100/100 [==============================] - 5s 46ms/step - loss: 0.4719 - accuracy: 0.7765 - val_loss: 0.5363 - val_accuracy: 0.7340\n",
      "Epoch 41/50\n",
      "100/100 [==============================] - 5s 46ms/step - loss: 0.4613 - accuracy: 0.7780 - val_loss: 0.5368 - val_accuracy: 0.7330\n",
      "Epoch 42/50\n",
      "100/100 [==============================] - 5s 46ms/step - loss: 0.4577 - accuracy: 0.7935 - val_loss: 0.5424 - val_accuracy: 0.7110\n",
      "Epoch 43/50\n",
      "100/100 [==============================] - 5s 47ms/step - loss: 0.4601 - accuracy: 0.7860 - val_loss: 0.6373 - val_accuracy: 0.6810\n",
      "Epoch 44/50\n",
      "100/100 [==============================] - 5s 46ms/step - loss: 0.4380 - accuracy: 0.7950 - val_loss: 0.6402 - val_accuracy: 0.7080\n",
      "Epoch 45/50\n",
      "100/100 [==============================] - 5s 47ms/step - loss: 0.4415 - accuracy: 0.7860 - val_loss: 0.5594 - val_accuracy: 0.7550\n",
      "Epoch 46/50\n",
      "100/100 [==============================] - 5s 46ms/step - loss: 0.4369 - accuracy: 0.7985 - val_loss: 0.5691 - val_accuracy: 0.7580\n",
      "Epoch 47/50\n",
      "100/100 [==============================] - 5s 47ms/step - loss: 0.4382 - accuracy: 0.8075 - val_loss: 0.6154 - val_accuracy: 0.7390\n",
      "Epoch 48/50\n",
      "100/100 [==============================] - 5s 46ms/step - loss: 0.4327 - accuracy: 0.8055 - val_loss: 0.6380 - val_accuracy: 0.7000\n",
      "Epoch 49/50\n",
      "100/100 [==============================] - 5s 46ms/step - loss: 0.4262 - accuracy: 0.8010 - val_loss: 0.6907 - val_accuracy: 0.6850\n",
      "Epoch 50/50\n",
      "100/100 [==============================] - 5s 47ms/step - loss: 0.4327 - accuracy: 0.8095 - val_loss: 0.7204 - val_accuracy: 0.7170\n"
     ]
    }
   ],
   "source": [
    "train_datagen = ImageDataGenerator(rescale=1.0/255)\n",
    "train_generator = train_datagen.flow_from_directory(train, target_size=(150,150), batch_size=20, class_mode=\"binary\")\n",
    "\n",
    "history = model.fit(train_generator, steps_per_epoch=100, epochs=50, \n",
    "                    validation_data=val_generator, validation_steps=50)"
   ]
  },
  {
   "cell_type": "code",
   "execution_count": 16,
   "id": "8157fa66",
   "metadata": {
    "execution": {
     "iopub.execute_input": "2023-11-12T18:58:43.498869Z",
     "iopub.status.busy": "2023-11-12T18:58:43.498497Z",
     "iopub.status.idle": "2023-11-12T18:58:43.768691Z",
     "shell.execute_reply": "2023-11-12T18:58:43.767643Z"
    },
    "papermill": {
     "duration": 0.997651,
     "end_time": "2023-11-12T18:58:43.770921",
     "exception": false,
     "start_time": "2023-11-12T18:58:42.773270",
     "status": "completed"
    },
    "tags": []
   },
   "outputs": [
    {
     "data": {
      "text/plain": [
       "[<matplotlib.lines.Line2D at 0x7c4cddf4cc40>]"
      ]
     },
     "execution_count": 16,
     "metadata": {},
     "output_type": "execute_result"
    },
    {
     "data": {
      "image/png": "[encoded data removed]",
      "text/plain": [
       "<Figure size 640x480 with 1 Axes>"
      ]
     },
     "metadata": {},
     "output_type": "display_data"
    }
   ],
   "source": [
    "plt.plot(history.history['accuracy'])\n",
    "plt.plot(history.history['val_accuracy'])"
   ]
  },
  {
   "cell_type": "code",
   "execution_count": null,
   "id": "5b10fc15",
   "metadata": {
    "papermill": {
     "duration": 0.720269,
     "end_time": "2023-11-12T18:58:45.263579",
     "exception": false,
     "start_time": "2023-11-12T18:58:44.543310",
     "status": "completed"
    },
    "tags": []
   },
   "outputs": [],
   "source": []
  }
 ],
 "metadata": {
  "kaggle": {
   "accelerator": "nvidiaTeslaT4",
   "dataSources": [],
   "dockerImageVersionId": 30580,
   "isGpuEnabled": true,
   "isInternetEnabled": true,
   "language": "python",
   "sourceType": "notebook"
  },
  "kernelspec": {
   "display_name": "Python 3",
   "language": "python",
   "name": "python3"
  },
  "language_info": {
   "codemirror_mode": {
    "name": "ipython",
    "version": 3
   },
   "file_extension": ".py",
   "mimetype": "text/x-python",
   "name": "python",
   "nbconvert_exporter": "python",
   "pygments_lexer": "ipython3",
   "version": "3.10.12"
  },
  "papermill": {
   "default_parameters": {},
   "duration": 1067.311274,
   "end_time": "2023-11-12T18:58:49.642822",
   "environment_variables": {},
   "exception": null,
   "input_path": "__notebook__.ipynb",
   "output_path": "__notebook__.ipynb",
   "parameters": {},
   "start_time": "2023-11-12T18:41:02.331548",
   "version": "2.4.0"
  }
 },
 "nbformat": 4,
 "nbformat_minor": 5
}
