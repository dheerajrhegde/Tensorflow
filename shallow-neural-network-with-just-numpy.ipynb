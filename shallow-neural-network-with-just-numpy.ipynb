{
 "cells": [
  {
   "cell_type": "code",
   "execution_count": 1,
   "id": "ffc792c6",
   "metadata": {
    "_cell_guid": "b1076dfc-b9ad-4769-8c92-a6c4dae69d19",
    "_uuid": "8f2839f25d086af736a60e9eeb907d3b93b6e0e5",
    "execution": {
     "iopub.execute_input": "2023-10-31T10:31:29.019191Z",
     "iopub.status.busy": "2023-10-31T10:31:29.018464Z",
     "iopub.status.idle": "2023-10-31T10:31:29.439194Z",
     "shell.execute_reply": "2023-10-31T10:31:29.437804Z"
    },
    "papermill": {
     "duration": 0.434061,
     "end_time": "2023-10-31T10:31:29.442674",
     "exception": false,
     "start_time": "2023-10-31T10:31:29.008613",
     "status": "completed"
    },
    "tags": []
   },
   "outputs": [],
   "source": [
    "# This Python 3 environment comes with many helpful analytics libraries installed\n",
    "# It is defined by the kaggle/python Docker image: https://github.com/kaggle/docker-python\n",
    "# For example, here's several helpful packages to load\n",
    "\n",
    "import numpy as np # linear algebra\n",
    "import pandas as pd # data processing, CSV file I/O (e.g. pd.read_csv)\n",
    "\n",
    "# Input data files are available in the read-only \"../input/\" directory\n",
    "# For example, running this (by clicking run or pressing Shift+Enter) will list all files under the input directory\n",
    "\n",
    "import os\n",
    "for dirname, _, filenames in os.walk('/kaggle/input'):\n",
    "    for filename in filenames:\n",
    "        print(os.path.join(dirname, filename))\n",
    "\n",
    "# You can write up to 20GB to the current directory (/kaggle/working/) that gets preserved as output when you create a version using \"Save & Run All\" \n",
    "# You can also write temporary files to /kaggle/temp/, but they won't be saved outside of the current session"
   ]
  },
  {
   "cell_type": "code",
   "execution_count": 2,
   "id": "983eb7dc",
   "metadata": {
    "execution": {
     "iopub.execute_input": "2023-10-31T10:31:29.458856Z",
     "iopub.status.busy": "2023-10-31T10:31:29.458333Z",
     "iopub.status.idle": "2023-10-31T10:31:29.463520Z",
     "shell.execute_reply": "2023-10-31T10:31:29.462284Z"
    },
    "papermill": {
     "duration": 0.016317,
     "end_time": "2023-10-31T10:31:29.466286",
     "exception": false,
     "start_time": "2023-10-31T10:31:29.449969",
     "status": "completed"
    },
    "tags": []
   },
   "outputs": [],
   "source": [
    "import numpy as np\n",
    "import math"
   ]
  },
  {
   "cell_type": "code",
   "execution_count": 3,
   "id": "50017f42",
   "metadata": {
    "execution": {
     "iopub.execute_input": "2023-10-31T10:31:29.482262Z",
     "iopub.status.busy": "2023-10-31T10:31:29.481885Z",
     "iopub.status.idle": "2023-10-31T10:31:29.487740Z",
     "shell.execute_reply": "2023-10-31T10:31:29.486389Z"
    },
    "papermill": {
     "duration": 0.016903,
     "end_time": "2023-10-31T10:31:29.490285",
     "exception": false,
     "start_time": "2023-10-31T10:31:29.473382",
     "status": "completed"
    },
    "tags": []
   },
   "outputs": [],
   "source": [
    "def sigmoid(Z):\n",
    "    A = 1/(1+np.exp(-Z))\n",
    "    return A\n",
    "\n",
    "def relu(Z):\n",
    "    A = np.maximum(0,Z)\n",
    "    return A"
   ]
  },
  {
   "cell_type": "code",
   "execution_count": 4,
   "id": "cdacc2ae",
   "metadata": {
    "execution": {
     "iopub.execute_input": "2023-10-31T10:31:29.505870Z",
     "iopub.status.busy": "2023-10-31T10:31:29.505470Z",
     "iopub.status.idle": "2023-10-31T10:31:29.512191Z",
     "shell.execute_reply": "2023-10-31T10:31:29.511049Z"
    },
    "papermill": {
     "duration": 0.017535,
     "end_time": "2023-10-31T10:31:29.514747",
     "exception": false,
     "start_time": "2023-10-31T10:31:29.497212",
     "status": "completed"
    },
    "tags": []
   },
   "outputs": [],
   "source": [
    "import numpy as np\n",
    "X = 2*np.random.rand(2,500)\n",
    "y = 4 + np.dot([[3,11]],X)\n",
    "y[y<15] = 0\n",
    "y[y>=15] = 1\n",
    "y = y.reshape(1,500)"
   ]
  },
  {
   "cell_type": "code",
   "execution_count": 5,
   "id": "e2c1a831",
   "metadata": {
    "execution": {
     "iopub.execute_input": "2023-10-31T10:31:29.530535Z",
     "iopub.status.busy": "2023-10-31T10:31:29.530132Z",
     "iopub.status.idle": "2023-10-31T10:31:29.544946Z",
     "shell.execute_reply": "2023-10-31T10:31:29.544030Z"
    },
    "papermill": {
     "duration": 0.025468,
     "end_time": "2023-10-31T10:31:29.547125",
     "exception": false,
     "start_time": "2023-10-31T10:31:29.521657",
     "status": "completed"
    },
    "tags": []
   },
   "outputs": [
    {
     "data": {
      "text/plain": [
       "array([[1., 0., 1., 1., 1., 0., 0., 0., 0., 0., 0., 1., 1., 1., 1., 1.,\n",
       "        0., 0., 0., 1., 1., 1., 0., 1., 1., 0., 1., 1., 0., 0., 1., 1.,\n",
       "        0., 0., 1., 1., 0., 1., 0., 1., 1., 1., 0., 1., 0., 1., 0., 0.,\n",
       "        0., 0., 0., 1., 1., 0., 1., 1., 1., 1., 0., 0., 0., 0., 1., 1.,\n",
       "        1., 0., 0., 1., 1., 0., 1., 1., 1., 1., 0., 1., 1., 0., 0., 1.,\n",
       "        1., 1., 1., 0., 0., 0., 1., 1., 1., 1., 1., 0., 0., 1., 1., 1.,\n",
       "        1., 1., 1., 0., 1., 1., 1., 0., 0., 0., 1., 1., 1., 1., 0., 0.,\n",
       "        1., 1., 1., 1., 1., 1., 0., 1., 1., 1., 0., 0., 0., 1., 0., 1.,\n",
       "        1., 1., 1., 0., 1., 1., 1., 1., 1., 1., 1., 1., 0., 1., 0., 1.,\n",
       "        0., 1., 0., 1., 1., 1., 0., 1., 0., 1., 1., 1., 0., 1., 0., 0.,\n",
       "        0., 1., 1., 0., 1., 0., 1., 1., 1., 0., 1., 0., 1., 1., 1., 1.,\n",
       "        1., 1., 1., 0., 0., 1., 0., 1., 0., 1., 1., 1., 1., 0., 1., 1.,\n",
       "        1., 1., 1., 0., 0., 0., 0., 1., 1., 1., 1., 0., 0., 1., 1., 1.,\n",
       "        0., 1., 1., 0., 1., 1., 0., 1., 0., 1., 0., 0., 0., 1., 1., 1.,\n",
       "        0., 1., 1., 1., 0., 1., 1., 1., 0., 1., 1., 0., 1., 1., 0., 1.,\n",
       "        1., 1., 1., 0., 1., 0., 1., 1., 0., 1., 0., 1., 1., 1., 0., 1.,\n",
       "        0., 1., 1., 1., 1., 1., 1., 1., 1., 1., 0., 0., 1., 1., 1., 0.,\n",
       "        0., 0., 1., 1., 1., 1., 1., 1., 1., 0., 1., 1., 1., 0., 0., 1.,\n",
       "        1., 0., 1., 0., 0., 0., 0., 1., 1., 1., 1., 1., 1., 1., 1., 0.,\n",
       "        1., 0., 1., 0., 1., 1., 1., 1., 1., 1., 0., 0., 1., 0., 0., 1.,\n",
       "        1., 1., 0., 1., 0., 1., 1., 1., 0., 1., 1., 1., 1., 0., 0., 0.,\n",
       "        1., 0., 1., 1., 1., 1., 0., 1., 1., 1., 1., 1., 1., 1., 1., 1.,\n",
       "        1., 0., 1., 1., 1., 0., 0., 1., 0., 1., 1., 1., 1., 1., 1., 1.,\n",
       "        1., 1., 1., 1., 1., 1., 1., 0., 1., 1., 0., 1., 1., 0., 1., 1.,\n",
       "        1., 0., 1., 0., 1., 1., 1., 1., 1., 1., 0., 1., 1., 1., 0., 1.,\n",
       "        1., 0., 0., 0., 1., 0., 1., 1., 1., 0., 0., 0., 1., 1., 0., 1.,\n",
       "        1., 0., 1., 0., 1., 0., 1., 1., 1., 1., 0., 1., 1., 1., 1., 1.,\n",
       "        1., 1., 1., 1., 0., 1., 1., 1., 1., 0., 0., 0., 1., 0., 0., 0.,\n",
       "        1., 1., 1., 1., 1., 0., 1., 1., 0., 1., 0., 1., 1., 1., 0., 1.,\n",
       "        1., 1., 1., 0., 1., 1., 1., 1., 0., 1., 1., 1., 1., 1., 1., 1.,\n",
       "        1., 1., 1., 0., 0., 1., 1., 0., 1., 1., 1., 0., 1., 1., 0., 0.,\n",
       "        1., 0., 0., 0.]])"
      ]
     },
     "execution_count": 5,
     "metadata": {},
     "output_type": "execute_result"
    }
   ],
   "source": [
    "y"
   ]
  },
  {
   "cell_type": "code",
   "execution_count": 6,
   "id": "27902134",
   "metadata": {
    "_kg_hide-input": true,
    "execution": {
     "iopub.execute_input": "2023-10-31T10:31:29.563397Z",
     "iopub.status.busy": "2023-10-31T10:31:29.562918Z",
     "iopub.status.idle": "2023-10-31T10:31:29.583239Z",
     "shell.execute_reply": "2023-10-31T10:31:29.582392Z"
    },
    "papermill": {
     "duration": 0.031435,
     "end_time": "2023-10-31T10:31:29.585666",
     "exception": false,
     "start_time": "2023-10-31T10:31:29.554231",
     "status": "completed"
    },
    "tags": []
   },
   "outputs": [],
   "source": [
    "class Node():\n",
    "    def __init__(self, input_size):\n",
    "        self.input_size = input_size\n",
    "        \n",
    "class Layer():\n",
    "   \n",
    "    def __init__(self,type=\"hidden\", activation_func=\"relu\", n_nodes=3, input_size=None, previous_layer = None, next_layer=None):\n",
    "        self.activation = activation_func\n",
    "        self.n_nodes = n_nodes\n",
    "        self.type = type\n",
    "        self.previous_layer = previous_layer\n",
    "        self.next_layer = next_layer\n",
    "        \"\"\"if input_size is None:\n",
    "            self.input_size = previous_layer.get_output_dim()\n",
    "        else:\n",
    "            self.input_size = input_size\"\"\"\n",
    "        self.input_size = input_size\n",
    "        self.w = np.random.rand(n_nodes, input_size)\n",
    "        self.a = None\n",
    "        self.nodes = [Node(self.input_size) for _ in range(self.n_nodes)]\n",
    "        self.loss = 0\n",
    "        self.cost = 0\n",
    "        self.da = 0\n",
    "        self.b = np.zeros((n_nodes,1))\n",
    "        self.z = 0\n",
    "        self.x = 0\n",
    "        self.g_prime = 0\n",
    "    \n",
    "    def get_output_dim(self):\n",
    "        return self.n_nodes\n",
    "    \n",
    "    def get_output(self):\n",
    "        return self.a\n",
    "        \n",
    "    def forward_prop(self, x, y):\n",
    "        self.x = x\n",
    "        #print(self.w.shape)\n",
    "        #print(x.shape)\n",
    "        #print(\"value of b is \",self.b)\n",
    "        self.z = np.dot(self.w, x) + self.b ##.reshape(self.b.shape[0],1)\n",
    "        \n",
    "        if self.type == \"output\":\n",
    "            self.a = relu(self.z)\n",
    "            self.loss = self.a-y\n",
    "            self.cost = np.sum(self.loss) / y.shape[1]\n",
    "        else:\n",
    "            #self.a = np.maximum(0,self.z) # for RELU\n",
    "            # want to do something else in hidden layers\n",
    "            self.a = sigmoid(self.z)\n",
    "            self.next_layer.forward_prop(self.a, y)\n",
    "            # calculate and persist Z\n",
    "        #print(\"***Forward propogation***\")\n",
    "        #print(\"layer is \", self.type)\n",
    "        #print(\"shape of z \",self.z.shape )\n",
    "        #print(\"shape of a \",self.a.shape )\n",
    "        #print(\"***Forward propogation***\")\n",
    "    \n",
    "    def backward_prop(self, y):\n",
    "        if self.type == \"hidden\":\n",
    "            self.g_prime = self.z * (1-self.z)\n",
    "            dz = self.g_prime * self.da\n",
    "            dw = np.dot(dz, self.x.T) / y.shape[1]\n",
    "            #db = np.squeeze(np.sum(dz, axis=1) / y.shape[1])\n",
    "            db = np.sum(dz) / y.shape[1]\n",
    "            #db = db.reshape((self.n_nodes,1))\n",
    "            self.w = self.w - 0.01*dw\n",
    "            self.b = self.b - 0.01*db\n",
    "            if self.previous_layer is not None:\n",
    "                self.previous_layer.da = np.dot(dw, dz)\n",
    "        else:\n",
    "            dz = self.a - y\n",
    "            dw = np.dot(dz, self.x.T) / y.shape[1]\n",
    "            db = np.squeeze(np.sum(dz, axis=1) / y.shape[1])\n",
    "            self.w = self.w - 0.01*dw\n",
    "            self.b = self.b - 0.01*db\n",
    "            self.previous_layer.da = np.dot(dw.T, dz)\n",
    "            \n",
    "            self.previous_layer.backward_prop(y)\n",
    "        #print(\"***backward propogation***\")\n",
    "        #print(\"layer is \", self.type)\n",
    "        #print(\"shape of dz \",dz.shape )\n",
    "        #print(\"shape of dw \",dw.shape )\n",
    "        #print(\"shape of db \",db.shape , db)\n",
    "        #if self.type == 'hidden':\n",
    "            #print(\"shape of da \",self.da.shape )\n",
    "        #print(\"***backward propogation***\")\n"
   ]
  },
  {
   "cell_type": "code",
   "execution_count": 7,
   "id": "6c9fc824",
   "metadata": {
    "execution": {
     "iopub.execute_input": "2023-10-31T10:31:29.601898Z",
     "iopub.status.busy": "2023-10-31T10:31:29.601511Z",
     "iopub.status.idle": "2023-10-31T10:31:29.608047Z",
     "shell.execute_reply": "2023-10-31T10:31:29.606825Z"
    },
    "papermill": {
     "duration": 0.017284,
     "end_time": "2023-10-31T10:31:29.610344",
     "exception": false,
     "start_time": "2023-10-31T10:31:29.593060",
     "status": "completed"
    },
    "tags": []
   },
   "outputs": [],
   "source": [
    "l1 = Layer(type=\"hidden\", activation_func=\"relu\", n_nodes=3, input_size=2, previous_layer = None, next_layer=None)\n",
    "l2 = Layer(type=\"output\", activation_func=\"relu\", n_nodes=1, input_size=3, previous_layer = None, next_layer=None)\n",
    "l1.next_layer = l2\n",
    "l2.previous_layer = l1\n",
    "\n"
   ]
  },
  {
   "cell_type": "code",
   "execution_count": 8,
   "id": "e7392638",
   "metadata": {
    "execution": {
     "iopub.execute_input": "2023-10-31T10:31:29.627418Z",
     "iopub.status.busy": "2023-10-31T10:31:29.626747Z",
     "iopub.status.idle": "2023-10-31T10:31:29.631911Z",
     "shell.execute_reply": "2023-10-31T10:31:29.631052Z"
    },
    "papermill": {
     "duration": 0.016426,
     "end_time": "2023-10-31T10:31:29.634124",
     "exception": false,
     "start_time": "2023-10-31T10:31:29.617698",
     "status": "completed"
    },
    "tags": []
   },
   "outputs": [],
   "source": [
    "l1_w_original = l1.w\n",
    "l1_b_original = l1.b\n",
    "l2_w_original = l2.w\n",
    "l2_b_original = l2.b"
   ]
  },
  {
   "cell_type": "code",
   "execution_count": 9,
   "id": "48e206e9",
   "metadata": {
    "execution": {
     "iopub.execute_input": "2023-10-31T10:31:29.650187Z",
     "iopub.status.busy": "2023-10-31T10:31:29.649573Z",
     "iopub.status.idle": "2023-10-31T10:31:29.657215Z",
     "shell.execute_reply": "2023-10-31T10:31:29.655984Z"
    },
    "papermill": {
     "duration": 0.018483,
     "end_time": "2023-10-31T10:31:29.659662",
     "exception": false,
     "start_time": "2023-10-31T10:31:29.641179",
     "status": "completed"
    },
    "tags": []
   },
   "outputs": [
    {
     "data": {
      "text/plain": [
       "(array([[0.70151788, 0.30167143],\n",
       "        [0.66569657, 0.14618842],\n",
       "        [0.31163217, 0.7935464 ]]),\n",
       " array([[0.70151788, 0.30167143],\n",
       "        [0.66569657, 0.14618842],\n",
       "        [0.31163217, 0.7935464 ]]))"
      ]
     },
     "execution_count": 9,
     "metadata": {},
     "output_type": "execute_result"
    }
   ],
   "source": [
    "l1_w_original,l1.w"
   ]
  },
  {
   "cell_type": "code",
   "execution_count": 10,
   "id": "2f7a9bb6",
   "metadata": {
    "execution": {
     "iopub.execute_input": "2023-10-31T10:31:29.675783Z",
     "iopub.status.busy": "2023-10-31T10:31:29.675399Z",
     "iopub.status.idle": "2023-10-31T10:31:31.209848Z",
     "shell.execute_reply": "2023-10-31T10:31:31.208516Z"
    },
    "papermill": {
     "duration": 1.545235,
     "end_time": "2023-10-31T10:31:31.212044",
     "exception": false,
     "start_time": "2023-10-31T10:31:29.666809",
     "status": "completed"
    },
    "tags": []
   },
   "outputs": [
    {
     "name": "stdout",
     "output_type": "stream",
     "text": [
      "iterration  499   0.014463973724650588\n",
      "iterration  999   0.014095275143607967\n",
      "iterration  1499   0.013738307920928674\n",
      "iterration  1999   0.01339253611408444\n",
      "iterration  2499   0.013057992485932103\n",
      "iterration  2999   0.012734856761176154\n",
      "iterration  3499   0.012423418549177594\n",
      "iterration  3999   0.012124031103870484\n",
      "iterration  4499   0.011837057328446069\n",
      "iterration  4999   0.011562809499337119\n",
      "iterration  5499   0.01130148396220611\n",
      "iterration  5999   0.011053091674784068\n",
      "iterration  6499   0.010817385171557743\n",
      "iterration  6999   0.010593782636333668\n",
      "iterration  7499   0.01038129071742057\n",
      "iterration  7999   0.010178430006902254\n",
      "iterration  8499   0.009983171227381774\n",
      "iterration  8999   0.009792896408847026\n",
      "iterration  9499   0.009604407312800675\n",
      "iterration  9999   0.009414011274337913\n"
     ]
    }
   ],
   "source": [
    "for i in range(10000):\n",
    "    l1.forward_prop(X,y)\n",
    "    l2.backward_prop(y)\n",
    "    x = i + 1\n",
    "    if not x % 500:\n",
    "        print(\"iterration \", i,\" \", l2.cost)"
   ]
  },
  {
   "cell_type": "code",
   "execution_count": 11,
   "id": "df425874",
   "metadata": {
    "execution": {
     "iopub.execute_input": "2023-10-31T10:31:31.229511Z",
     "iopub.status.busy": "2023-10-31T10:31:31.229006Z",
     "iopub.status.idle": "2023-10-31T10:31:31.236418Z",
     "shell.execute_reply": "2023-10-31T10:31:31.235251Z"
    },
    "papermill": {
     "duration": 0.018673,
     "end_time": "2023-10-31T10:31:31.238705",
     "exception": false,
     "start_time": "2023-10-31T10:31:31.220032",
     "status": "completed"
    },
    "tags": []
   },
   "outputs": [
    {
     "data": {
      "text/plain": [
       "(array([[0.7036106 , 0.30325897],\n",
       "        [0.65791099, 0.13909062],\n",
       "        [0.73673331, 1.46387777]]),\n",
       " array([[0.70151788, 0.30167143],\n",
       "        [0.66569657, 0.14618842],\n",
       "        [0.31163217, 0.7935464 ]]))"
      ]
     },
     "execution_count": 11,
     "metadata": {},
     "output_type": "execute_result"
    }
   ],
   "source": [
    "l1.w, l1_w_original"
   ]
  },
  {
   "cell_type": "code",
   "execution_count": 12,
   "id": "e4ba85c4",
   "metadata": {
    "execution": {
     "iopub.execute_input": "2023-10-31T10:31:31.256470Z",
     "iopub.status.busy": "2023-10-31T10:31:31.256064Z",
     "iopub.status.idle": "2023-10-31T10:31:31.263245Z",
     "shell.execute_reply": "2023-10-31T10:31:31.261960Z"
    },
    "papermill": {
     "duration": 0.019031,
     "end_time": "2023-10-31T10:31:31.265737",
     "exception": false,
     "start_time": "2023-10-31T10:31:31.246706",
     "status": "completed"
    },
    "tags": []
   },
   "outputs": [
    {
     "data": {
      "text/plain": [
       "(array([[0.20970027, 0.54667712, 1.47173607]]),\n",
       " array([[0.20627546, 0.93819891, 0.10184881]]))"
      ]
     },
     "execution_count": 12,
     "metadata": {},
     "output_type": "execute_result"
    }
   ],
   "source": [
    "l2.w, l2_w_original"
   ]
  },
  {
   "cell_type": "code",
   "execution_count": 13,
   "id": "48aa3afc",
   "metadata": {
    "execution": {
     "iopub.execute_input": "2023-10-31T10:31:31.283611Z",
     "iopub.status.busy": "2023-10-31T10:31:31.283189Z",
     "iopub.status.idle": "2023-10-31T10:31:31.290730Z",
     "shell.execute_reply": "2023-10-31T10:31:31.289603Z"
    },
    "papermill": {
     "duration": 0.019425,
     "end_time": "2023-10-31T10:31:31.293209",
     "exception": false,
     "start_time": "2023-10-31T10:31:31.273784",
     "status": "completed"
    },
    "tags": []
   },
   "outputs": [
    {
     "data": {
      "text/plain": [
       "array([0.75432886, 0.47432647, 0.779429  , 0.69563537, 0.78942737,\n",
       "       0.24467019, 0.6921241 , 0.47316318, 0.53514307, 0.45562178])"
      ]
     },
     "execution_count": 13,
     "metadata": {},
     "output_type": "execute_result"
    }
   ],
   "source": [
    "l2.a[0,:10]"
   ]
  },
  {
   "cell_type": "code",
   "execution_count": 14,
   "id": "5c5db158",
   "metadata": {
    "execution": {
     "iopub.execute_input": "2023-10-31T10:31:31.311640Z",
     "iopub.status.busy": "2023-10-31T10:31:31.311070Z",
     "iopub.status.idle": "2023-10-31T10:31:31.319019Z",
     "shell.execute_reply": "2023-10-31T10:31:31.317845Z"
    },
    "papermill": {
     "duration": 0.019858,
     "end_time": "2023-10-31T10:31:31.321435",
     "exception": false,
     "start_time": "2023-10-31T10:31:31.301577",
     "status": "completed"
    },
    "tags": []
   },
   "outputs": [
    {
     "data": {
      "text/plain": [
       "array([[1., 0., 1., 1., 1., 0., 0., 0., 0., 0.]])"
      ]
     },
     "execution_count": 14,
     "metadata": {},
     "output_type": "execute_result"
    }
   ],
   "source": [
    "y[:,:10]"
   ]
  },
  {
   "cell_type": "code",
   "execution_count": 15,
   "id": "a9f4f79b",
   "metadata": {
    "execution": {
     "iopub.execute_input": "2023-10-31T10:31:31.340011Z",
     "iopub.status.busy": "2023-10-31T10:31:31.339638Z",
     "iopub.status.idle": "2023-10-31T10:31:31.346938Z",
     "shell.execute_reply": "2023-10-31T10:31:31.345775Z"
    },
    "papermill": {
     "duration": 0.019494,
     "end_time": "2023-10-31T10:31:31.349326",
     "exception": false,
     "start_time": "2023-10-31T10:31:31.329832",
     "status": "completed"
    },
    "tags": []
   },
   "outputs": [
    {
     "data": {
      "text/plain": [
       "(1, 500)"
      ]
     },
     "execution_count": 15,
     "metadata": {},
     "output_type": "execute_result"
    }
   ],
   "source": [
    "l2.a.shape"
   ]
  },
  {
   "cell_type": "code",
   "execution_count": 16,
   "id": "eee55440",
   "metadata": {
    "execution": {
     "iopub.execute_input": "2023-10-31T10:31:31.368261Z",
     "iopub.status.busy": "2023-10-31T10:31:31.367866Z",
     "iopub.status.idle": "2023-10-31T10:31:31.374263Z",
     "shell.execute_reply": "2023-10-31T10:31:31.373088Z"
    },
    "papermill": {
     "duration": 0.018718,
     "end_time": "2023-10-31T10:31:31.376689",
     "exception": false,
     "start_time": "2023-10-31T10:31:31.357971",
     "status": "completed"
    },
    "tags": []
   },
   "outputs": [],
   "source": [
    "y_hat = y.copy()"
   ]
  },
  {
   "cell_type": "code",
   "execution_count": 17,
   "id": "60de7b3e",
   "metadata": {
    "execution": {
     "iopub.execute_input": "2023-10-31T10:31:31.395822Z",
     "iopub.status.busy": "2023-10-31T10:31:31.395438Z",
     "iopub.status.idle": "2023-10-31T10:31:31.401007Z",
     "shell.execute_reply": "2023-10-31T10:31:31.399948Z"
    },
    "papermill": {
     "duration": 0.018013,
     "end_time": "2023-10-31T10:31:31.403291",
     "exception": false,
     "start_time": "2023-10-31T10:31:31.385278",
     "status": "completed"
    },
    "tags": []
   },
   "outputs": [],
   "source": [
    "y_hat[y<0.6] = 0\n",
    "y_hat[y>=0.6] = 1"
   ]
  },
  {
   "cell_type": "code",
   "execution_count": 18,
   "id": "68665846",
   "metadata": {
    "execution": {
     "iopub.execute_input": "2023-10-31T10:31:31.422772Z",
     "iopub.status.busy": "2023-10-31T10:31:31.422398Z",
     "iopub.status.idle": "2023-10-31T10:31:31.430966Z",
     "shell.execute_reply": "2023-10-31T10:31:31.429723Z"
    },
    "papermill": {
     "duration": 0.021489,
     "end_time": "2023-10-31T10:31:31.433428",
     "exception": false,
     "start_time": "2023-10-31T10:31:31.411939",
     "status": "completed"
    },
    "tags": []
   },
   "outputs": [
    {
     "data": {
      "text/plain": [
       "(array([[1., 0., 1., 1., 1., 0., 0., 0., 0., 0., 0., 1., 1., 1., 1., 1.,\n",
       "         0., 0., 0., 1.]]),\n",
       " array([[1., 0., 1., 1., 1., 0., 0., 0., 0., 0., 0., 1., 1., 1., 1., 1.,\n",
       "         0., 0., 0., 1.]]))"
      ]
     },
     "execution_count": 18,
     "metadata": {},
     "output_type": "execute_result"
    }
   ],
   "source": [
    "y_hat[:,:20], y[:,:20]"
   ]
  },
  {
   "cell_type": "code",
   "execution_count": null,
   "id": "a91c8690",
   "metadata": {
    "papermill": {
     "duration": 0.008435,
     "end_time": "2023-10-31T10:31:31.450693",
     "exception": false,
     "start_time": "2023-10-31T10:31:31.442258",
     "status": "completed"
    },
    "tags": []
   },
   "outputs": [],
   "source": []
  }
 ],
 "metadata": {
  "kernelspec": {
   "display_name": "Python 3",
   "language": "python",
   "name": "python3"
  },
  "language_info": {
   "codemirror_mode": {
    "name": "ipython",
    "version": 3
   },
   "file_extension": ".py",
   "mimetype": "text/x-python",
   "name": "python",
   "nbconvert_exporter": "python",
   "pygments_lexer": "ipython3",
   "version": "3.10.12"
  },
  "papermill": {
   "default_parameters": {},
   "duration": 6.550003,
   "end_time": "2023-10-31T10:31:31.879449",
   "environment_variables": {},
   "exception": null,
   "input_path": "__notebook__.ipynb",
   "output_path": "__notebook__.ipynb",
   "parameters": {},
   "start_time": "2023-10-31T10:31:25.329446",
   "version": "2.4.0"
  }
 },
 "nbformat": 4,
 "nbformat_minor": 5
}
