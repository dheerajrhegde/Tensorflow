{
 "cells": [
  {
   "cell_type": "code",
   "execution_count": 1,
   "id": "a912dea3",
   "metadata": {
    "_cell_guid": "b1076dfc-b9ad-4769-8c92-a6c4dae69d19",
    "_uuid": "8f2839f25d086af736a60e9eeb907d3b93b6e0e5",
    "execution": {
     "iopub.execute_input": "2023-10-30T20:55:59.501144Z",
     "iopub.status.busy": "2023-10-30T20:55:59.500383Z",
     "iopub.status.idle": "2023-10-30T20:55:59.868633Z",
     "shell.execute_reply": "2023-10-30T20:55:59.867656Z"
    },
    "papermill": {
     "duration": 0.377746,
     "end_time": "2023-10-30T20:55:59.871453",
     "exception": false,
     "start_time": "2023-10-30T20:55:59.493707",
     "status": "completed"
    },
    "tags": []
   },
   "outputs": [],
   "source": [
    "# This Python 3 environment comes with many helpful analytics libraries installed\n",
    "# It is defined by the kaggle/python Docker image: https://github.com/kaggle/docker-python\n",
    "# For example, here's several helpful packages to load\n",
    "\n",
    "import numpy as np # linear algebra\n",
    "import pandas as pd # data processing, CSV file I/O (e.g. pd.read_csv)\n",
    "\n",
    "# Input data files are available in the read-only \"../input/\" directory\n",
    "# For example, running this (by clicking run or pressing Shift+Enter) will list all files under the input directory\n",
    "\n",
    "import os\n",
    "for dirname, _, filenames in os.walk('/kaggle/input'):\n",
    "    for filename in filenames:\n",
    "        print(os.path.join(dirname, filename))\n",
    "\n",
    "# You can write up to 20GB to the current directory (/kaggle/working/) that gets preserved as output when you create a version using \"Save & Run All\" \n",
    "# You can also write temporary files to /kaggle/temp/, but they won't be saved outside of the current session"
   ]
  },
  {
   "cell_type": "code",
   "execution_count": 2,
   "id": "4984ef0c",
   "metadata": {
    "execution": {
     "iopub.execute_input": "2023-10-30T20:55:59.886168Z",
     "iopub.status.busy": "2023-10-30T20:55:59.884821Z",
     "iopub.status.idle": "2023-10-30T20:55:59.890495Z",
     "shell.execute_reply": "2023-10-30T20:55:59.889199Z"
    },
    "papermill": {
     "duration": 0.01467,
     "end_time": "2023-10-30T20:55:59.892754",
     "exception": false,
     "start_time": "2023-10-30T20:55:59.878084",
     "status": "completed"
    },
    "tags": []
   },
   "outputs": [],
   "source": [
    "import numpy as np\n",
    "import math"
   ]
  },
  {
   "cell_type": "code",
   "execution_count": 3,
   "id": "d0c955b8",
   "metadata": {
    "execution": {
     "iopub.execute_input": "2023-10-30T20:55:59.902186Z",
     "iopub.status.busy": "2023-10-30T20:55:59.901828Z",
     "iopub.status.idle": "2023-10-30T20:55:59.907043Z",
     "shell.execute_reply": "2023-10-30T20:55:59.906041Z"
    },
    "papermill": {
     "duration": 0.01242,
     "end_time": "2023-10-30T20:55:59.909220",
     "exception": false,
     "start_time": "2023-10-30T20:55:59.896800",
     "status": "completed"
    },
    "tags": []
   },
   "outputs": [],
   "source": [
    "def sigmoid(Z):\n",
    "    A = 1/(1+np.exp(-Z))\n",
    "    return A\n",
    "\n",
    "def relu(Z):\n",
    "    A = np.maximum(0,Z)\n",
    "    return A"
   ]
  },
  {
   "cell_type": "code",
   "execution_count": 4,
   "id": "2aea63e0",
   "metadata": {
    "execution": {
     "iopub.execute_input": "2023-10-30T20:55:59.918889Z",
     "iopub.status.busy": "2023-10-30T20:55:59.918574Z",
     "iopub.status.idle": "2023-10-30T20:55:59.924044Z",
     "shell.execute_reply": "2023-10-30T20:55:59.922962Z"
    },
    "papermill": {
     "duration": 0.012488,
     "end_time": "2023-10-30T20:55:59.925912",
     "exception": false,
     "start_time": "2023-10-30T20:55:59.913424",
     "status": "completed"
    },
    "tags": []
   },
   "outputs": [],
   "source": [
    "import numpy as np\n",
    "X = 2*np.random.rand(2,100)\n",
    "y = 4 + np.dot([[3,11]],X)\n",
    "y[y<15] = 0\n",
    "y[y>=15] = 1\n",
    "y = y.reshape(1,100)"
   ]
  },
  {
   "cell_type": "code",
   "execution_count": 5,
   "id": "4b80ff12",
   "metadata": {
    "execution": {
     "iopub.execute_input": "2023-10-30T20:55:59.935315Z",
     "iopub.status.busy": "2023-10-30T20:55:59.934948Z",
     "iopub.status.idle": "2023-10-30T20:55:59.944537Z",
     "shell.execute_reply": "2023-10-30T20:55:59.943511Z"
    },
    "papermill": {
     "duration": 0.01685,
     "end_time": "2023-10-30T20:55:59.946843",
     "exception": false,
     "start_time": "2023-10-30T20:55:59.929993",
     "status": "completed"
    },
    "tags": []
   },
   "outputs": [
    {
     "data": {
      "text/plain": [
       "array([[1., 1., 1., 0., 1., 0., 1., 0., 1., 0., 1., 1., 0., 0., 0., 1.,\n",
       "        0., 1., 0., 1., 1., 0., 1., 0., 0., 0., 1., 1., 1., 0., 1., 1.,\n",
       "        1., 0., 0., 1., 0., 0., 1., 0., 1., 0., 0., 0., 0., 1., 1., 0.,\n",
       "        1., 0., 1., 1., 1., 0., 1., 1., 1., 0., 0., 1., 1., 0., 0., 1.,\n",
       "        0., 0., 0., 0., 0., 0., 0., 1., 1., 1., 1., 1., 1., 0., 1., 0.,\n",
       "        1., 1., 1., 1., 1., 1., 1., 0., 0., 1., 1., 0., 1., 1., 1., 0.,\n",
       "        0., 0., 0., 1.]])"
      ]
     },
     "execution_count": 5,
     "metadata": {},
     "output_type": "execute_result"
    }
   ],
   "source": [
    "y"
   ]
  },
  {
   "cell_type": "code",
   "execution_count": 6,
   "id": "eae77526",
   "metadata": {
    "_kg_hide-input": true,
    "execution": {
     "iopub.execute_input": "2023-10-30T20:55:59.957501Z",
     "iopub.status.busy": "2023-10-30T20:55:59.956730Z",
     "iopub.status.idle": "2023-10-30T20:55:59.972842Z",
     "shell.execute_reply": "2023-10-30T20:55:59.971713Z"
    },
    "papermill": {
     "duration": 0.02461,
     "end_time": "2023-10-30T20:55:59.975787",
     "exception": false,
     "start_time": "2023-10-30T20:55:59.951177",
     "status": "completed"
    },
    "tags": []
   },
   "outputs": [],
   "source": [
    "class Node():\n",
    "    def __init__(self, input_size):\n",
    "        self.input_size = input_size\n",
    "        \n",
    "class Layer():\n",
    "   \n",
    "    def __init__(self,type=\"hidden\", activation_func=\"relu\", n_nodes=3, input_size=None, previous_layer = None, next_layer=None):\n",
    "        self.activation = activation_func\n",
    "        self.n_nodes = n_nodes\n",
    "        self.type = type\n",
    "        self.previous_layer = previous_layer\n",
    "        self.next_layer = next_layer\n",
    "        \"\"\"if input_size is None:\n",
    "            self.input_size = previous_layer.get_output_dim()\n",
    "        else:\n",
    "            self.input_size = input_size\"\"\"\n",
    "        self.input_size = input_size\n",
    "        self.w = np.random.rand(n_nodes, input_size)\n",
    "        self.a = None\n",
    "        self.nodes = [Node(self.input_size) for _ in range(self.n_nodes)]\n",
    "        self.loss = 0\n",
    "        self.cost = 0\n",
    "        self.da = 0\n",
    "        self.b = np.zeros((n_nodes,1))\n",
    "        self.z = 0\n",
    "        self.x = 0\n",
    "        self.g_prime = 0\n",
    "    \n",
    "    def get_output_dim(self):\n",
    "        return self.n_nodes\n",
    "    \n",
    "    def get_output(self):\n",
    "        return self.a\n",
    "        \n",
    "    def forward_prop(self, x, y):\n",
    "        self.x = x\n",
    "        #print(self.w.shape)\n",
    "        #print(x.shape)\n",
    "        #print(\"value of b is \",self.b)\n",
    "        self.z = np.dot(self.w, x) + self.b ##.reshape(self.b.shape[0],1)\n",
    "        \n",
    "        if self.type == \"output\":\n",
    "            self.a = relu(self.z)\n",
    "            self.loss = self.a-y\n",
    "            self.cost = np.sum(self.loss) / y.shape[1]\n",
    "        else:\n",
    "            #self.a = np.maximum(0,self.z) # for RELU\n",
    "            # want to do something else in hidden layers\n",
    "            self.a = sigmoid(self.z)\n",
    "            self.next_layer.forward_prop(self.a, y)\n",
    "            # calculate and persist Z\n",
    "        #print(\"***Forward propogation***\")\n",
    "        #print(\"layer is \", self.type)\n",
    "        #print(\"shape of z \",self.z.shape )\n",
    "        #print(\"shape of a \",self.a.shape )\n",
    "        #print(\"***Forward propogation***\")\n",
    "    \n",
    "    def backward_prop(self, y):\n",
    "        if self.type == \"hidden\":\n",
    "            self.g_prime = self.z * (1-self.z)\n",
    "            dz = self.g_prime * self.da\n",
    "            dw = np.dot(dz, self.x.T) / y.shape[1]\n",
    "            #db = np.squeeze(np.sum(dz, axis=1) / y.shape[1])\n",
    "            db = np.sum(dz) / y.shape[1]\n",
    "            #db = db.reshape((self.n_nodes,1))\n",
    "            self.w = self.w - 0.01*dw\n",
    "            self.b = self.b - 0.01*db\n",
    "            if self.previous_layer is not None:\n",
    "                self.previous_layer.da = np.dot(dw, dz)\n",
    "        else:\n",
    "            dz = self.a - y\n",
    "            dw = np.dot(dz, self.x.T) / y.shape[1]\n",
    "            db = np.squeeze(np.sum(dz, axis=1) / y.shape[1])\n",
    "            self.w = self.w - 0.01*dw\n",
    "            self.b = self.b - 0.01*db\n",
    "            self.previous_layer.da = np.dot(dw.T, dz)\n",
    "            \n",
    "            self.previous_layer.backward_prop(y)\n",
    "        #print(\"***backward propogation***\")\n",
    "        #print(\"layer is \", self.type)\n",
    "        #print(\"shape of dz \",dz.shape )\n",
    "        #print(\"shape of dw \",dw.shape )\n",
    "        #print(\"shape of db \",db.shape , db)\n",
    "        #if self.type == 'hidden':\n",
    "            #print(\"shape of da \",self.da.shape )\n",
    "        #print(\"***backward propogation***\")\n"
   ]
  },
  {
   "cell_type": "code",
   "execution_count": 7,
   "id": "42992dc4",
   "metadata": {
    "execution": {
     "iopub.execute_input": "2023-10-30T20:55:59.986297Z",
     "iopub.status.busy": "2023-10-30T20:55:59.985908Z",
     "iopub.status.idle": "2023-10-30T20:55:59.991677Z",
     "shell.execute_reply": "2023-10-30T20:55:59.990564Z"
    },
    "papermill": {
     "duration": 0.013445,
     "end_time": "2023-10-30T20:55:59.993833",
     "exception": false,
     "start_time": "2023-10-30T20:55:59.980388",
     "status": "completed"
    },
    "tags": []
   },
   "outputs": [],
   "source": [
    "l1 = Layer(type=\"hidden\", activation_func=\"relu\", n_nodes=3, input_size=2, previous_layer = None, next_layer=None)\n",
    "l2 = Layer(type=\"output\", activation_func=\"relu\", n_nodes=1, input_size=3, previous_layer = None, next_layer=None)\n",
    "l1.next_layer = l2\n",
    "l2.previous_layer = l1\n",
    "\n"
   ]
  },
  {
   "cell_type": "code",
   "execution_count": 8,
   "id": "7e07e27c",
   "metadata": {
    "execution": {
     "iopub.execute_input": "2023-10-30T20:56:00.004550Z",
     "iopub.status.busy": "2023-10-30T20:56:00.003797Z",
     "iopub.status.idle": "2023-10-30T20:56:00.009040Z",
     "shell.execute_reply": "2023-10-30T20:56:00.008245Z"
    },
    "papermill": {
     "duration": 0.013079,
     "end_time": "2023-10-30T20:56:00.011163",
     "exception": false,
     "start_time": "2023-10-30T20:55:59.998084",
     "status": "completed"
    },
    "tags": []
   },
   "outputs": [],
   "source": [
    "l1_w_original = l1.w\n",
    "l1_b_original = l1.b\n",
    "l2_w_original = l2.w\n",
    "l2_b_original = l2.b"
   ]
  },
  {
   "cell_type": "code",
   "execution_count": 9,
   "id": "de7d6dea",
   "metadata": {
    "execution": {
     "iopub.execute_input": "2023-10-30T20:56:00.021205Z",
     "iopub.status.busy": "2023-10-30T20:56:00.020816Z",
     "iopub.status.idle": "2023-10-30T20:56:00.027650Z",
     "shell.execute_reply": "2023-10-30T20:56:00.026885Z"
    },
    "papermill": {
     "duration": 0.01424,
     "end_time": "2023-10-30T20:56:00.029651",
     "exception": false,
     "start_time": "2023-10-30T20:56:00.015411",
     "status": "completed"
    },
    "tags": []
   },
   "outputs": [
    {
     "data": {
      "text/plain": [
       "(array([[0.08151452, 0.62773459],\n",
       "        [0.41869737, 0.06059651],\n",
       "        [0.07540474, 0.83782452]]),\n",
       " array([[0.08151452, 0.62773459],\n",
       "        [0.41869737, 0.06059651],\n",
       "        [0.07540474, 0.83782452]]))"
      ]
     },
     "execution_count": 9,
     "metadata": {},
     "output_type": "execute_result"
    }
   ],
   "source": [
    "l1_w_original,l1.w"
   ]
  },
  {
   "cell_type": "code",
   "execution_count": 10,
   "id": "73934bf3",
   "metadata": {
    "execution": {
     "iopub.execute_input": "2023-10-30T20:56:00.040028Z",
     "iopub.status.busy": "2023-10-30T20:56:00.039649Z",
     "iopub.status.idle": "2023-10-30T20:56:00.195077Z",
     "shell.execute_reply": "2023-10-30T20:56:00.194044Z"
    },
    "papermill": {
     "duration": 0.163365,
     "end_time": "2023-10-30T20:56:00.197323",
     "exception": false,
     "start_time": "2023-10-30T20:56:00.033958",
     "status": "completed"
    },
    "tags": []
   },
   "outputs": [
    {
     "name": "stdout",
     "output_type": "stream",
     "text": [
      "iterration  499   0.020782873774157763\n",
      "iterration  999   0.02002902374926358\n",
      "iterration  1499   0.019306262713977517\n",
      "iterration  1999   0.018606765022804263\n"
     ]
    }
   ],
   "source": [
    "for i in range(2000):\n",
    "    l1.forward_prop(X,y)\n",
    "    l2.backward_prop(y)\n",
    "    x = i + 1\n",
    "    if not x % 500:\n",
    "        print(\"iterration \", i,\" \", l2.cost)"
   ]
  },
  {
   "cell_type": "code",
   "execution_count": 11,
   "id": "b807bbbf",
   "metadata": {
    "execution": {
     "iopub.execute_input": "2023-10-30T20:56:00.207611Z",
     "iopub.status.busy": "2023-10-30T20:56:00.207288Z",
     "iopub.status.idle": "2023-10-30T20:56:00.214067Z",
     "shell.execute_reply": "2023-10-30T20:56:00.212997Z"
    },
    "papermill": {
     "duration": 0.014448,
     "end_time": "2023-10-30T20:56:00.216113",
     "exception": false,
     "start_time": "2023-10-30T20:56:00.201665",
     "status": "completed"
    },
    "tags": []
   },
   "outputs": [
    {
     "data": {
      "text/plain": [
       "(array([[0.0767115 , 0.62833993],\n",
       "        [0.40548431, 0.05994732],\n",
       "        [0.10246932, 0.88754552]]),\n",
       " array([[0.08151452, 0.62773459],\n",
       "        [0.41869737, 0.06059651],\n",
       "        [0.07540474, 0.83782452]]))"
      ]
     },
     "execution_count": 11,
     "metadata": {},
     "output_type": "execute_result"
    }
   ],
   "source": [
    "l1.w, l1_w_original"
   ]
  },
  {
   "cell_type": "code",
   "execution_count": 12,
   "id": "83f4ed69",
   "metadata": {
    "execution": {
     "iopub.execute_input": "2023-10-30T20:56:00.226840Z",
     "iopub.status.busy": "2023-10-30T20:56:00.226473Z",
     "iopub.status.idle": "2023-10-30T20:56:00.233203Z",
     "shell.execute_reply": "2023-10-30T20:56:00.232296Z"
    },
    "papermill": {
     "duration": 0.014554,
     "end_time": "2023-10-30T20:56:00.235189",
     "exception": false,
     "start_time": "2023-10-30T20:56:00.220635",
     "status": "completed"
    },
    "tags": []
   },
   "outputs": [
    {
     "data": {
      "text/plain": [
       "(array([[0.57683974, 0.67758629, 0.67406003]]),\n",
       " array([[0.50893382, 0.98632204, 0.49848868]]))"
      ]
     },
     "execution_count": 12,
     "metadata": {},
     "output_type": "execute_result"
    }
   ],
   "source": [
    "l2.w, l2_w_original"
   ]
  },
  {
   "cell_type": "code",
   "execution_count": 13,
   "id": "2059f709",
   "metadata": {
    "execution": {
     "iopub.execute_input": "2023-10-30T20:56:00.245956Z",
     "iopub.status.busy": "2023-10-30T20:56:00.245583Z",
     "iopub.status.idle": "2023-10-30T20:56:00.252619Z",
     "shell.execute_reply": "2023-10-30T20:56:00.251628Z"
    },
    "papermill": {
     "duration": 0.014903,
     "end_time": "2023-10-30T20:56:00.254689",
     "exception": false,
     "start_time": "2023-10-30T20:56:00.239786",
     "status": "completed"
    },
    "tags": []
   },
   "outputs": [
    {
     "data": {
      "text/plain": [
       "array([0.60673841, 0.58201423, 0.61983228, 0.40695376, 0.71821619,\n",
       "       0.50660525, 0.52129264, 0.46545521, 0.7100936 , 0.48788973])"
      ]
     },
     "execution_count": 13,
     "metadata": {},
     "output_type": "execute_result"
    }
   ],
   "source": [
    "l2.a[0,:10]"
   ]
  },
  {
   "cell_type": "code",
   "execution_count": 14,
   "id": "cc7a5e58",
   "metadata": {
    "execution": {
     "iopub.execute_input": "2023-10-30T20:56:00.266060Z",
     "iopub.status.busy": "2023-10-30T20:56:00.265649Z",
     "iopub.status.idle": "2023-10-30T20:56:00.273197Z",
     "shell.execute_reply": "2023-10-30T20:56:00.272031Z"
    },
    "papermill": {
     "duration": 0.015651,
     "end_time": "2023-10-30T20:56:00.275155",
     "exception": false,
     "start_time": "2023-10-30T20:56:00.259504",
     "status": "completed"
    },
    "tags": []
   },
   "outputs": [
    {
     "data": {
      "text/plain": [
       "array([[1., 1., 1., 0., 1., 0., 1., 0., 1., 0.]])"
      ]
     },
     "execution_count": 14,
     "metadata": {},
     "output_type": "execute_result"
    }
   ],
   "source": [
    "y[:,:10]"
   ]
  },
  {
   "cell_type": "code",
   "execution_count": null,
   "id": "7742f7fd",
   "metadata": {
    "papermill": {
     "duration": 0.004746,
     "end_time": "2023-10-30T20:56:00.285021",
     "exception": false,
     "start_time": "2023-10-30T20:56:00.280275",
     "status": "completed"
    },
    "tags": []
   },
   "outputs": [],
   "source": []
  }
 ],
 "metadata": {
  "kernelspec": {
   "display_name": "Python 3",
   "language": "python",
   "name": "python3"
  },
  "language_info": {
   "codemirror_mode": {
    "name": "ipython",
    "version": 3
   },
   "file_extension": ".py",
   "mimetype": "text/x-python",
   "name": "python",
   "nbconvert_exporter": "python",
   "pygments_lexer": "ipython3",
   "version": "3.10.12"
  },
  "papermill": {
   "default_parameters": {},
   "duration": 4.323728,
   "end_time": "2023-10-30T20:56:00.710205",
   "environment_variables": {},
   "exception": null,
   "input_path": "__notebook__.ipynb",
   "output_path": "__notebook__.ipynb",
   "parameters": {},
   "start_time": "2023-10-30T20:55:56.386477",
   "version": "2.4.0"
  }
 },
 "nbformat": 4,
 "nbformat_minor": 5
}
