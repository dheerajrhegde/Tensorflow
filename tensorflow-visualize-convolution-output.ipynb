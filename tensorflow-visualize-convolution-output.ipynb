{
 "cells": [
  {
   "cell_type": "code",
   "execution_count": 1,
   "id": "2020efc7",
   "metadata": {
    "_cell_guid": "b1076dfc-b9ad-4769-8c92-a6c4dae69d19",
    "_uuid": "8f2839f25d086af736a60e9eeb907d3b93b6e0e5",
    "execution": {
     "iopub.execute_input": "2023-11-12T16:01:27.428562Z",
     "iopub.status.busy": "2023-11-12T16:01:27.428135Z",
     "iopub.status.idle": "2023-11-12T16:01:28.782036Z",
     "shell.execute_reply": "2023-11-12T16:01:28.780868Z"
    },
    "papermill": {
     "duration": 1.363141,
     "end_time": "2023-11-12T16:01:28.785117",
     "exception": false,
     "start_time": "2023-11-12T16:01:27.421976",
     "status": "completed"
    },
    "tags": []
   },
   "outputs": [],
   "source": [
    "# This Python 3 environment comes with many helpful analytics libraries installed\n",
    "# It is defined by the kaggle/python Docker image: https://github.com/kaggle/docker-python\n",
    "# For example, here's several helpful packages to load\n",
    "\n",
    "import numpy as np # linear algebra\n",
    "import pandas as pd # data processing, CSV file I/O (e.g. pd.read_csv)\n",
    "\n",
    "# Input data files are available in the read-only \"../input/\" directory\n",
    "# For example, running this (by clicking run or pressing Shift+Enter) will list all files under the input directory\n",
    "\n",
    "import os\n",
    "for dirname, _, filenames in os.walk('/kaggle/input'):\n",
    "    for filename in filenames:\n",
    "        pass#print(os.path.join(dirname, filename))\n",
    "\n",
    "# You can write up to 20GB to the current directory (/kaggle/working/) that gets preserved as output when you create a version using \"Save & Run All\" \n",
    "# You can also write temporary files to /kaggle/temp/, but they won't be saved outside of the current session"
   ]
  },
  {
   "cell_type": "code",
   "execution_count": 2,
   "id": "1fd1b841",
   "metadata": {
    "execution": {
     "iopub.execute_input": "2023-11-12T16:01:28.798217Z",
     "iopub.status.busy": "2023-11-12T16:01:28.797244Z",
     "iopub.status.idle": "2023-11-12T16:01:39.590615Z",
     "shell.execute_reply": "2023-11-12T16:01:39.589432Z"
    },
    "papermill": {
     "duration": 10.801758,
     "end_time": "2023-11-12T16:01:39.593050",
     "exception": false,
     "start_time": "2023-11-12T16:01:28.791292",
     "status": "completed"
    },
    "tags": []
   },
   "outputs": [
    {
     "data": {
      "text/plain": [
       "'2.12.0'"
      ]
     },
     "execution_count": 2,
     "metadata": {},
     "output_type": "execute_result"
    }
   ],
   "source": [
    "import tensorflow as tf\n",
    "from tensorflow import keras\n",
    "import matplotlib.pyplot as plt\n",
    "tf.__version__"
   ]
  },
  {
   "cell_type": "code",
   "execution_count": 3,
   "id": "9bdad6db",
   "metadata": {
    "execution": {
     "iopub.execute_input": "2023-11-12T16:01:39.603921Z",
     "iopub.status.busy": "2023-11-12T16:01:39.603171Z",
     "iopub.status.idle": "2023-11-12T16:01:40.811930Z",
     "shell.execute_reply": "2023-11-12T16:01:40.810531Z"
    },
    "papermill": {
     "duration": 1.217158,
     "end_time": "2023-11-12T16:01:40.814517",
     "exception": false,
     "start_time": "2023-11-12T16:01:39.597359",
     "status": "completed"
    },
    "tags": []
   },
   "outputs": [
    {
     "name": "stdout",
     "output_type": "stream",
     "text": [
      "Downloading data from https://storage.googleapis.com/tensorflow/tf-keras-datasets/train-labels-idx1-ubyte.gz\n",
      "29515/29515 [==============================] - 0s 0us/step\n",
      "Downloading data from https://storage.googleapis.com/tensorflow/tf-keras-datasets/train-images-idx3-ubyte.gz\n",
      "26421880/26421880 [==============================] - 0s 0us/step\n",
      "Downloading data from https://storage.googleapis.com/tensorflow/tf-keras-datasets/t10k-labels-idx1-ubyte.gz\n",
      "5148/5148 [==============================] - 0s 0us/step\n",
      "Downloading data from https://storage.googleapis.com/tensorflow/tf-keras-datasets/t10k-images-idx3-ubyte.gz\n",
      "4422102/4422102 [==============================] - 0s 0us/step\n"
     ]
    },
    {
     "data": {
      "text/plain": [
       "<matplotlib.image.AxesImage at 0x7c6685bbe980>"
      ]
     },
     "execution_count": 3,
     "metadata": {},
     "output_type": "execute_result"
    },
    {
     "data": {
      "image/png": "[encoded data removed]",
      "text/plain": [
       "<Figure size 640x480 with 1 Axes>"
      ]
     },
     "metadata": {},
     "output_type": "display_data"
    }
   ],
   "source": [
    "(train_X, train_y),(test_X, test_y) = keras.datasets.fashion_mnist.load_data()\n",
    "plt.imshow(train_X[0],cmap=\"inferno\")"
   ]
  },
  {
   "cell_type": "code",
   "execution_count": 4,
   "id": "a7b09d88",
   "metadata": {
    "execution": {
     "iopub.execute_input": "2023-11-12T16:01:40.827390Z",
     "iopub.status.busy": "2023-11-12T16:01:40.826968Z",
     "iopub.status.idle": "2023-11-12T16:01:40.988454Z",
     "shell.execute_reply": "2023-11-12T16:01:40.987019Z"
    },
    "papermill": {
     "duration": 0.171235,
     "end_time": "2023-11-12T16:01:40.991384",
     "exception": false,
     "start_time": "2023-11-12T16:01:40.820149",
     "status": "completed"
    },
    "tags": []
   },
   "outputs": [],
   "source": [
    "train_X = train_X/255\n",
    "test_X = test_X / 255"
   ]
  },
  {
   "cell_type": "code",
   "execution_count": 5,
   "id": "83053d81",
   "metadata": {
    "execution": {
     "iopub.execute_input": "2023-11-12T16:01:41.005778Z",
     "iopub.status.busy": "2023-11-12T16:01:41.005386Z",
     "iopub.status.idle": "2023-11-12T16:01:41.013356Z",
     "shell.execute_reply": "2023-11-12T16:01:41.012171Z"
    },
    "papermill": {
     "duration": 0.017969,
     "end_time": "2023-11-12T16:01:41.015843",
     "exception": false,
     "start_time": "2023-11-12T16:01:40.997874",
     "status": "completed"
    },
    "tags": []
   },
   "outputs": [
    {
     "data": {
      "text/plain": [
       "((60000, 28, 28), (60000,))"
      ]
     },
     "execution_count": 5,
     "metadata": {},
     "output_type": "execute_result"
    }
   ],
   "source": [
    "train_X.shape, train_y.shape"
   ]
  },
  {
   "cell_type": "code",
   "execution_count": 6,
   "id": "74b259b9",
   "metadata": {
    "execution": {
     "iopub.execute_input": "2023-11-12T16:01:41.029457Z",
     "iopub.status.busy": "2023-11-12T16:01:41.029060Z",
     "iopub.status.idle": "2023-11-12T16:01:41.036397Z",
     "shell.execute_reply": "2023-11-12T16:01:41.035122Z"
    },
    "papermill": {
     "duration": 0.017408,
     "end_time": "2023-11-12T16:01:41.039081",
     "exception": false,
     "start_time": "2023-11-12T16:01:41.021673",
     "status": "completed"
    },
    "tags": []
   },
   "outputs": [
    {
     "data": {
      "text/plain": [
       "((10000, 28, 28), (10000,))"
      ]
     },
     "execution_count": 6,
     "metadata": {},
     "output_type": "execute_result"
    }
   ],
   "source": [
    "test_X.shape, test_y.shape"
   ]
  },
  {
   "cell_type": "code",
   "execution_count": 7,
   "id": "5fb5ff4c",
   "metadata": {
    "execution": {
     "iopub.execute_input": "2023-11-12T16:01:41.053994Z",
     "iopub.status.busy": "2023-11-12T16:01:41.052759Z",
     "iopub.status.idle": "2023-11-12T16:10:21.512227Z",
     "shell.execute_reply": "2023-11-12T16:10:21.511355Z"
    },
    "papermill": {
     "duration": 520.469254,
     "end_time": "2023-11-12T16:10:21.514363",
     "exception": false,
     "start_time": "2023-11-12T16:01:41.045109",
     "status": "completed"
    },
    "tags": []
   },
   "outputs": [
    {
     "name": "stdout",
     "output_type": "stream",
     "text": [
      "Epoch 1/10\n",
      "1875/1875 [==============================] - 54s 28ms/step - loss: 1.3309 - accuracy: 0.5440\n",
      "Epoch 2/10\n",
      "1875/1875 [==============================] - 52s 28ms/step - loss: 0.7051 - accuracy: 0.7372\n",
      "Epoch 3/10\n",
      "1875/1875 [==============================] - 52s 28ms/step - loss: 0.6003 - accuracy: 0.7780\n",
      "Epoch 4/10\n",
      "1875/1875 [==============================] - 52s 28ms/step - loss: 0.5445 - accuracy: 0.7999\n",
      "Epoch 5/10\n",
      "1875/1875 [==============================] - 51s 27ms/step - loss: 0.5056 - accuracy: 0.8147\n",
      "Epoch 6/10\n",
      "1875/1875 [==============================] - 51s 27ms/step - loss: 0.4760 - accuracy: 0.8251\n",
      "Epoch 7/10\n",
      "1875/1875 [==============================] - 52s 28ms/step - loss: 0.4485 - accuracy: 0.8356\n",
      "Epoch 8/10\n",
      "1875/1875 [==============================] - 52s 27ms/step - loss: 0.4286 - accuracy: 0.8429\n",
      "Epoch 9/10\n",
      "1875/1875 [==============================] - 52s 28ms/step - loss: 0.4112 - accuracy: 0.8491\n",
      "Epoch 10/10\n",
      "1875/1875 [==============================] - 52s 27ms/step - loss: 0.3954 - accuracy: 0.8551\n"
     ]
    },
    {
     "data": {
      "text/plain": [
       "<keras.callbacks.History at 0x7c66853060e0>"
      ]
     },
     "execution_count": 7,
     "metadata": {},
     "output_type": "execute_result"
    }
   ],
   "source": [
    "model = keras.Sequential([\n",
    "    keras.layers.Conv2D(64,(3,3), activation=\"relu\", input_shape=(28,28,1)),\n",
    "    keras.layers.MaxPooling2D(2,2),\n",
    "    keras.layers.Conv2D(64,(3,3), activation=\"relu\"),\n",
    "    keras.layers.MaxPooling2D(2,2),\n",
    "    keras.layers.Conv2D(64,(3,3), activation=\"relu\"),\n",
    "    keras.layers.MaxPooling2D(2,2),\n",
    "    keras.layers.Flatten(),\n",
    "    keras.layers.Dense(512, activation=\"relu\"),\n",
    "    keras.layers.Dense(128, activation=\"relu\"),\n",
    "    keras.layers.Dense(10, activation=\"softmax\")\n",
    "]\n",
    ")\n",
    "model.compile(optimizer=\"sgd\", loss=\"sparse_categorical_crossentropy\", metrics=['accuracy'])\n",
    "model.fit(train_X, train_y, epochs=10)"
   ]
  },
  {
   "cell_type": "code",
   "execution_count": 8,
   "id": "b29939e0",
   "metadata": {
    "execution": {
     "iopub.execute_input": "2023-11-12T16:10:22.917443Z",
     "iopub.status.busy": "2023-11-12T16:10:22.917034Z",
     "iopub.status.idle": "2023-11-12T16:10:22.921925Z",
     "shell.execute_reply": "2023-11-12T16:10:22.920748Z"
    },
    "papermill": {
     "duration": 0.697575,
     "end_time": "2023-11-12T16:10:22.923939",
     "exception": false,
     "start_time": "2023-11-12T16:10:22.226364",
     "status": "completed"
    },
    "tags": []
   },
   "outputs": [],
   "source": [
    "layer_outputs = [layer.output for layer in model.layers]"
   ]
  },
  {
   "cell_type": "code",
   "execution_count": 9,
   "id": "b73a3d9d",
   "metadata": {
    "execution": {
     "iopub.execute_input": "2023-11-12T16:10:24.119464Z",
     "iopub.status.busy": "2023-11-12T16:10:24.118718Z",
     "iopub.status.idle": "2023-11-12T16:10:24.128447Z",
     "shell.execute_reply": "2023-11-12T16:10:24.127165Z"
    },
    "papermill": {
     "duration": 0.611119,
     "end_time": "2023-11-12T16:10:24.131028",
     "exception": false,
     "start_time": "2023-11-12T16:10:23.519909",
     "status": "completed"
    },
    "tags": []
   },
   "outputs": [],
   "source": [
    "activation_model = keras.models.Model(inputs=model.input, outputs=layer_outputs)"
   ]
  },
  {
   "cell_type": "code",
   "execution_count": 10,
   "id": "8eedd525",
   "metadata": {
    "execution": {
     "iopub.execute_input": "2023-11-12T16:10:25.381430Z",
     "iopub.status.busy": "2023-11-12T16:10:25.380554Z",
     "iopub.status.idle": "2023-11-12T16:10:25.678890Z",
     "shell.execute_reply": "2023-11-12T16:10:25.677925Z"
    },
    "papermill": {
     "duration": 0.891155,
     "end_time": "2023-11-12T16:10:25.681054",
     "exception": false,
     "start_time": "2023-11-12T16:10:24.789899",
     "status": "completed"
    },
    "tags": []
   },
   "outputs": [
    {
     "name": "stdout",
     "output_type": "stream",
     "text": [
      "1/1 [==============================] - 0s 141ms/step\n",
      "1/1 [==============================] - 0s 24ms/step\n"
     ]
    }
   ],
   "source": [
    "f1 = activation_model.predict(test_X[0].reshape(1,28,28,1))[0]\n",
    "f2 = activation_model.predict(test_X[23].reshape(1,28,28,1))[0]"
   ]
  },
  {
   "cell_type": "code",
   "execution_count": 11,
   "id": "bda7a158",
   "metadata": {
    "execution": {
     "iopub.execute_input": "2023-11-12T16:10:26.936025Z",
     "iopub.status.busy": "2023-11-12T16:10:26.935271Z",
     "iopub.status.idle": "2023-11-12T16:10:26.941363Z",
     "shell.execute_reply": "2023-11-12T16:10:26.940527Z"
    },
    "papermill": {
     "duration": 0.668007,
     "end_time": "2023-11-12T16:10:26.943681",
     "exception": false,
     "start_time": "2023-11-12T16:10:26.275674",
     "status": "completed"
    },
    "tags": []
   },
   "outputs": [
    {
     "data": {
      "text/plain": [
       "(1, 26, 26, 64)"
      ]
     },
     "execution_count": 11,
     "metadata": {},
     "output_type": "execute_result"
    }
   ],
   "source": [
    "f1.shape"
   ]
  },
  {
   "cell_type": "code",
   "execution_count": 12,
   "id": "6192a940",
   "metadata": {
    "execution": {
     "iopub.execute_input": "2023-11-12T16:10:28.127459Z",
     "iopub.status.busy": "2023-11-12T16:10:28.126710Z",
     "iopub.status.idle": "2023-11-12T16:10:29.971640Z",
     "shell.execute_reply": "2023-11-12T16:10:29.970609Z"
    },
    "papermill": {
     "duration": 2.439323,
     "end_time": "2023-11-12T16:10:29.974675",
     "exception": false,
     "start_time": "2023-11-12T16:10:27.535352",
     "status": "completed"
    },
    "tags": []
   },
   "outputs": [
    {
     "data": {
      "image/png": "[encoded data removed]",
      "text/plain": [
       "<Figure size 640x480 with 14 Axes>"
      ]
     },
     "metadata": {},
     "output_type": "display_data"
    }
   ],
   "source": [
    "\n",
    "f, axarr = plt.subplots(7,2)\n",
    "axarr[0,0].imshow(f1[0,:,:, 0],cmap=\"inferno\") # ouput of 1st filter\n",
    "axarr[0,0].grid(False)\n",
    "axarr[1,0].imshow(f1[0,:,:, 9],cmap=\"inferno\") # output of 10th filter\n",
    "axarr[1,0].grid(False)\n",
    "axarr[2,0].imshow(f1[0,:,:, 19],cmap=\"inferno\") # output of 20th filter\n",
    "axarr[2,0].grid(False)\n",
    "axarr[3,0].imshow(f1[0,:,:, 29],cmap=\"inferno\") # output of 30th filter\n",
    "axarr[3,0].grid(False)\n",
    "axarr[4,0].imshow(f1[0,:,:, 39],cmap=\"inferno\") # output of 40th filter\n",
    "axarr[4,0].grid(False)\n",
    "axarr[5,0].imshow(f1[0,:,:, 49],cmap=\"inferno\") # output of 50th filter\n",
    "axarr[5,0].grid(False)\n",
    "\n",
    "axarr[6,0].imshow(test_X[0],cmap=\"inferno\") # output of 50th filter\n",
    "axarr[6,0].grid(False)\n",
    "\n",
    "axarr[0,1].imshow(f2[0,:,:, 0],cmap=\"inferno\") # ouput of 1st filter\n",
    "axarr[0,1].grid(False)\n",
    "axarr[1,1].imshow(f2[0,:,:, 9],cmap=\"inferno\") # output of 10th filter\n",
    "axarr[1,1].grid(False)\n",
    "axarr[2,1].imshow(f2[0,:,:, 19],cmap=\"inferno\") # output of 20th filter\n",
    "axarr[2,1].grid(False)\n",
    "axarr[3,1].imshow(f2[0,:,:, 29],cmap=\"inferno\") # output of 30th filter\n",
    "axarr[3,1].grid(False)\n",
    "axarr[4,1].imshow(f2[0,:,:, 39],cmap=\"inferno\") # output of 40th filter\n",
    "axarr[4,1].grid(False)\n",
    "axarr[5,1].imshow(f2[0,:,:, 49],cmap=\"inferno\") # output of 50th filter\n",
    "axarr[5,1].grid(False)\n",
    "\n",
    "axarr[6,1].imshow(test_X[23],cmap=\"inferno\") # output of 50th filter\n",
    "axarr[6,1].grid(False)"
   ]
  },
  {
   "cell_type": "code",
   "execution_count": 13,
   "id": "9047984f",
   "metadata": {
    "execution": {
     "iopub.execute_input": "2023-11-12T16:10:31.230356Z",
     "iopub.status.busy": "2023-11-12T16:10:31.229554Z",
     "iopub.status.idle": "2023-11-12T16:10:31.298875Z",
     "shell.execute_reply": "2023-11-12T16:10:31.297930Z"
    },
    "papermill": {
     "duration": 0.665242,
     "end_time": "2023-11-12T16:10:31.301304",
     "exception": false,
     "start_time": "2023-11-12T16:10:30.636062",
     "status": "completed"
    },
    "tags": []
   },
   "outputs": [
    {
     "name": "stdout",
     "output_type": "stream",
     "text": [
      "Found 1027 images belonging to 2 classes.\n",
      "Found 256 images belonging to 2 classes.\n"
     ]
    }
   ],
   "source": [
    "train_datagen = tf.keras.preprocessing.image.ImageDataGenerator(rescale=1.0/255)\n",
    "train_generator = train_datagen.flow_from_directory(\"/kaggle/input/horses-or-humans-dataset/horse-or-human/train\",\n",
    "                                 target_size=(300,300),batch_size=128, \n",
    "                                 class_mode=\"binary\")\n",
    "validation_datagen = tf.keras.preprocessing.image.ImageDataGenerator(rescale=1.0/255)\n",
    "validation_generator = validation_datagen.flow_from_directory(\"/kaggle/input/horses-or-humans-dataset/horse-or-human/validation\",\n",
    "                                      target_size=(300,300), batch_size=32,\n",
    "                                      class_mode=\"binary\")"
   ]
  },
  {
   "cell_type": "code",
   "execution_count": 14,
   "id": "ea2006a0",
   "metadata": {
    "execution": {
     "iopub.execute_input": "2023-11-12T16:10:32.564165Z",
     "iopub.status.busy": "2023-11-12T16:10:32.562720Z",
     "iopub.status.idle": "2023-11-12T16:10:32.712828Z",
     "shell.execute_reply": "2023-11-12T16:10:32.711297Z"
    },
    "papermill": {
     "duration": 0.815458,
     "end_time": "2023-11-12T16:10:32.715630",
     "exception": false,
     "start_time": "2023-11-12T16:10:31.900172",
     "status": "completed"
    },
    "tags": []
   },
   "outputs": [],
   "source": [
    "model = tf.keras.models.Sequential([\n",
    "    # Note the input shape is the desired size of the image 300x300 with 3 bytes color\n",
    "    # This is the first convolution\n",
    "    tf.keras.layers.Conv2D(64, (3,3), activation='relu', input_shape=(300, 300, 3)),\n",
    "    tf.keras.layers.MaxPooling2D(2, 2),\n",
    "    # The second convolution\n",
    "    tf.keras.layers.Conv2D(64, (3,3), activation='relu'),\n",
    "    tf.keras.layers.MaxPooling2D(2,2),\n",
    "    # The third convolution\n",
    "    tf.keras.layers.Conv2D(64, (3,3), activation='relu'),\n",
    "    tf.keras.layers.MaxPooling2D(2,2),\n",
    "    # The fourth convolution\n",
    "    tf.keras.layers.Conv2D(64, (3,3), activation='relu'),\n",
    "    tf.keras.layers.MaxPooling2D(2,2),\n",
    "    # The fifth convolution\n",
    "    tf.keras.layers.Conv2D(64, (3,3), activation='relu'),\n",
    "    tf.keras.layers.MaxPooling2D(2,2),\n",
    "    # Flatten the results to feed into a DNN\n",
    "    tf.keras.layers.Flatten(),\n",
    "    # 512 neuron hidden layer\n",
    "    tf.keras.layers.Dense(512, activation='relu'),\n",
    "    # Only 1 output neuron. It will contain a value from 0-1 where 0 for 1 class ('horses') and 1 for the other ('humans')\n",
    "    tf.keras.layers.Dense(1, activation='sigmoid')\n",
    "])\n",
    "from tensorflow.keras.optimizers import RMSprop\n",
    "\n",
    "model.compile(loss='binary_crossentropy',\n",
    "              optimizer=RMSprop(learning_rate=0.001),\n",
    "              metrics=['accuracy'])"
   ]
  },
  {
   "cell_type": "code",
   "execution_count": 15,
   "id": "be078433",
   "metadata": {
    "execution": {
     "iopub.execute_input": "2023-11-12T16:10:33.901050Z",
     "iopub.status.busy": "2023-11-12T16:10:33.899785Z",
     "iopub.status.idle": "2023-11-12T16:55:54.517492Z",
     "shell.execute_reply": "2023-11-12T16:55:54.516130Z"
    },
    "papermill": {
     "duration": 2721.2142,
     "end_time": "2023-11-12T16:55:54.520212",
     "exception": false,
     "start_time": "2023-11-12T16:10:33.306012",
     "status": "completed"
    },
    "tags": []
   },
   "outputs": [
    {
     "name": "stdout",
     "output_type": "stream",
     "text": [
      "Epoch 1/15\n",
      "8/8 [==============================] - 151s 18s/step - loss: 1.5965 - accuracy: 0.4872 - val_loss: 0.6899 - val_accuracy: 0.5000\n",
      "Epoch 2/15\n",
      "8/8 [==============================] - 148s 18s/step - loss: 0.6897 - accuracy: 0.5150 - val_loss: 0.6848 - val_accuracy: 0.5000\n",
      "Epoch 3/15\n",
      "8/8 [==============================] - 147s 18s/step - loss: 0.6695 - accuracy: 0.5829 - val_loss: 0.6135 - val_accuracy: 0.5000\n",
      "Epoch 4/15\n",
      "8/8 [==============================] - 147s 18s/step - loss: 0.8305 - accuracy: 0.6819 - val_loss: 0.6898 - val_accuracy: 0.5586\n",
      "Epoch 5/15\n",
      "8/8 [==============================] - 146s 18s/step - loss: 0.6457 - accuracy: 0.5640 - val_loss: 0.5137 - val_accuracy: 0.7852\n",
      "Epoch 6/15\n",
      "8/8 [==============================] - 146s 18s/step - loss: 0.6711 - accuracy: 0.7731 - val_loss: 0.6620 - val_accuracy: 0.5625\n",
      "Epoch 7/15\n",
      "8/8 [==============================] - 147s 18s/step - loss: 0.6529 - accuracy: 0.7408 - val_loss: 0.4608 - val_accuracy: 0.8555\n",
      "Epoch 8/15\n",
      "8/8 [==============================] - 147s 18s/step - loss: 0.4203 - accuracy: 0.8532 - val_loss: 0.5131 - val_accuracy: 0.8789\n",
      "Epoch 9/15\n",
      "8/8 [==============================] - 146s 18s/step - loss: 0.3363 - accuracy: 0.8776 - val_loss: 0.5361 - val_accuracy: 0.8477\n",
      "Epoch 10/15\n",
      "8/8 [==============================] - 146s 18s/step - loss: 0.6536 - accuracy: 0.8198 - val_loss: 0.4557 - val_accuracy: 0.8594\n",
      "Epoch 11/15\n",
      "8/8 [==============================] - 164s 20s/step - loss: 0.4530 - accuracy: 0.8623 - val_loss: 1.2571 - val_accuracy: 0.7305\n",
      "Epoch 12/15\n",
      "8/8 [==============================] - 147s 18s/step - loss: 0.3111 - accuracy: 0.8721 - val_loss: 0.6632 - val_accuracy: 0.8867\n",
      "Epoch 13/15\n",
      "8/8 [==============================] - 146s 18s/step - loss: 0.1906 - accuracy: 0.9232 - val_loss: 1.0267 - val_accuracy: 0.6328\n",
      "Epoch 14/15\n",
      "8/8 [==============================] - 146s 18s/step - loss: 0.5141 - accuracy: 0.8231 - val_loss: 0.7402 - val_accuracy: 0.8711\n",
      "Epoch 15/15\n",
      "8/8 [==============================] - 147s 18s/step - loss: 0.1996 - accuracy: 0.9143 - val_loss: 0.3805 - val_accuracy: 0.9023\n"
     ]
    }
   ],
   "source": [
    "history = model.fit(\n",
    "      train_generator,\n",
    "      steps_per_epoch=8,  \n",
    "      epochs=15,\n",
    "      validation_data = validation_generator,\n",
    "      validation_steps=8)"
   ]
  },
  {
   "cell_type": "code",
   "execution_count": 16,
   "id": "6d89b927",
   "metadata": {
    "execution": {
     "iopub.execute_input": "2023-11-12T16:55:55.816741Z",
     "iopub.status.busy": "2023-11-12T16:55:55.816301Z",
     "iopub.status.idle": "2023-11-12T16:55:56.192457Z",
     "shell.execute_reply": "2023-11-12T16:55:56.191299Z"
    },
    "papermill": {
     "duration": 1.067907,
     "end_time": "2023-11-12T16:55:56.195161",
     "exception": false,
     "start_time": "2023-11-12T16:55:55.127254",
     "status": "completed"
    },
    "tags": []
   },
   "outputs": [
    {
     "name": "stdout",
     "output_type": "stream",
     "text": [
      "1/1 [==============================] - 0s 163ms/step\n",
      "1/1 [==============================] - 0s 61ms/step\n"
     ]
    }
   ],
   "source": [
    "layer_outputs = [layer.output for layer in model.layers]\n",
    "activation_model = tf.keras.models.Model(inputs=model.input, outputs=layer_outputs)\n",
    "\n",
    "from tensorflow.keras.utils import load_img, img_to_array\n",
    "import numpy as np\n",
    "\n",
    "img = load_img(\"/kaggle/input/horses-or-humans-dataset/horse-or-human/validation/horses/horse1-000.png\", target_size=(300, 300))\n",
    "x = img_to_array(img)\n",
    "x = np.expand_dims(x, axis=0)\n",
    "images1 = np.vstack([x])\n",
    "f1 = activation_model.predict(images1)\n",
    "\n",
    "img = load_img(\"/kaggle/input/horses-or-humans-dataset/horse-or-human/validation/humans/valhuman01-00.png\", target_size=(300, 300))\n",
    "x = img_to_array(img)\n",
    "x = np.expand_dims(x, axis=0)\n",
    "images2 = np.vstack([x])\n",
    "f2 = activation_model.predict(images2)"
   ]
  },
  {
   "cell_type": "code",
   "execution_count": 17,
   "id": "f5df51ba",
   "metadata": {
    "execution": {
     "iopub.execute_input": "2023-11-12T16:55:57.482115Z",
     "iopub.status.busy": "2023-11-12T16:55:57.481300Z",
     "iopub.status.idle": "2023-11-12T16:55:58.452089Z",
     "shell.execute_reply": "2023-11-12T16:55:58.450685Z"
    },
    "papermill": {
     "duration": 1.659463,
     "end_time": "2023-11-12T16:55:58.454796",
     "exception": false,
     "start_time": "2023-11-12T16:55:56.795333",
     "status": "completed"
    },
    "tags": []
   },
   "outputs": [
    {
     "data": {
      "image/png": "[encoded data removed]",
      "text/plain": [
       "<Figure size 640x480 with 8 Axes>"
      ]
     },
     "metadata": {},
     "output_type": "display_data"
    }
   ],
   "source": [
    "f, axarr = plt.subplots(4,2)\n",
    "layer = 9\n",
    "axarr[0,0].imshow(f1[layer][0,:,:, 0],cmap=\"inferno\") # ouput of 1st filter\n",
    "axarr[0,0].grid(False)\n",
    "axarr[0,1].imshow(f2[layer][0,:,:, 0],cmap=\"inferno\") # ouput of 1st filter\n",
    "axarr[0,1].grid(False)\n",
    "axarr[1,0].imshow(f1[layer][0,:,:, 14],cmap=\"inferno\") # ouput of 1st filter\n",
    "axarr[1,0].grid(False)\n",
    "axarr[1,1].imshow(f2[layer][0,:,:, 14],cmap=\"inferno\") # ouput of 1st filter\n",
    "axarr[1,1].grid(False)\n",
    "axarr[2,0].imshow(f1[layer][0,:,:, 29],cmap=\"inferno\") # ouput of 1st filter\n",
    "axarr[2,0].grid(False)\n",
    "axarr[2,1].imshow(f2[layer][0,:,:, 29],cmap=\"inferno\") # ouput of 1st filter\n",
    "axarr[2,1].grid(False)\n",
    "axarr[2,0].imshow(f1[layer][0,:,:, 44],cmap=\"inferno\") # ouput of 1st filter\n",
    "axarr[2,0].grid(False)\n",
    "axarr[2,1].imshow(f2[layer][0,:,:, 44],cmap=\"inferno\") # ouput of 1st filter\n",
    "axarr[2,1].grid(False)\n",
    "axarr[3,0].imshow(f1[layer][0,:,:, 59],cmap=\"inferno\") # ouput of 1st filter\n",
    "axarr[3,0].grid(False)\n",
    "axarr[3,1].imshow(f2[layer][0,:,:, 59],cmap=\"inferno\") # ouput of 1st filter\n",
    "axarr[3,1].grid(False)"
   ]
  },
  {
   "cell_type": "code",
   "execution_count": null,
   "id": "6d8971a1",
   "metadata": {
    "papermill": {
     "duration": 0.617705,
     "end_time": "2023-11-12T16:55:59.678625",
     "exception": false,
     "start_time": "2023-11-12T16:55:59.060920",
     "status": "completed"
    },
    "tags": []
   },
   "outputs": [],
   "source": []
  }
 ],
 "metadata": {
  "kernelspec": {
   "display_name": "Python 3",
   "language": "python",
   "name": "python3"
  },
  "language_info": {
   "codemirror_mode": {
    "name": "ipython",
    "version": 3
   },
   "file_extension": ".py",
   "mimetype": "text/x-python",
   "name": "python",
   "nbconvert_exporter": "python",
   "pygments_lexer": "ipython3",
   "version": "3.10.12"
  },
  "papermill": {
   "default_parameters": {},
   "duration": 3278.815688,
   "end_time": "2023-11-12T16:56:02.128217",
   "environment_variables": {},
   "exception": null,
   "input_path": "__notebook__.ipynb",
   "output_path": "__notebook__.ipynb",
   "parameters": {},
   "start_time": "2023-11-12T16:01:23.312529",
   "version": "2.4.0"
  }
 },
 "nbformat": 4,
 "nbformat_minor": 5
}
