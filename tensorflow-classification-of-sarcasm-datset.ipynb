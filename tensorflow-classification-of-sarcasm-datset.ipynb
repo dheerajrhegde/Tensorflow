{
 "cells": [
  {
   "cell_type": "code",
   "execution_count": 1,
   "id": "8ea5041c",
   "metadata": {
    "_cell_guid": "b1076dfc-b9ad-4769-8c92-a6c4dae69d19",
    "_uuid": "8f2839f25d086af736a60e9eeb907d3b93b6e0e5",
    "execution": {
     "iopub.execute_input": "2023-12-24T00:09:35.347368Z",
     "iopub.status.busy": "2023-12-24T00:09:35.347007Z",
     "iopub.status.idle": "2023-12-24T00:09:36.049950Z",
     "shell.execute_reply": "2023-12-24T00:09:36.048983Z"
    },
    "papermill": {
     "duration": 0.712022,
     "end_time": "2023-12-24T00:09:36.052408",
     "exception": false,
     "start_time": "2023-12-24T00:09:35.340386",
     "status": "completed"
    },
    "tags": []
   },
   "outputs": [],
   "source": [
    "# This Python 3 environment comes with many helpful analytics libraries installed\n",
    "# It is defined by the kaggle/python Docker image: https://github.com/kaggle/docker-python\n",
    "# For example, here's several helpful packages to load\n",
    "\n",
    "import numpy as np # linear algebra\n",
    "import pandas as pd # data processing, CSV file I/O (e.g. pd.read_csv)\n",
    "\n",
    "# Input data files are available in the read-only \"../input/\" directory\n",
    "# For example, running this (by clicking run or pressing Shift+Enter) will list all files under the input directory\n",
    "\n",
    "import os\n",
    "for dirname, _, filenames in os.walk('/kaggle/input'):\n",
    "    for filename in filenames:\n",
    "        print(os.path.join(dirname, filename))\n",
    "\n",
    "# You can write up to 20GB to the current directory (/kaggle/working/) that gets preserved as output when you create a version using \"Save & Run All\" \n",
    "# You can also write temporary files to /kaggle/temp/, but they won't be saved outside of the current session"
   ]
  },
  {
   "cell_type": "code",
   "execution_count": 2,
   "id": "4a9907de",
   "metadata": {
    "execution": {
     "iopub.execute_input": "2023-12-24T00:09:36.063069Z",
     "iopub.status.busy": "2023-12-24T00:09:36.062678Z",
     "iopub.status.idle": "2023-12-24T00:09:37.242735Z",
     "shell.execute_reply": "2023-12-24T00:09:37.241740Z"
    },
    "papermill": {
     "duration": 1.187931,
     "end_time": "2023-12-24T00:09:37.245236",
     "exception": false,
     "start_time": "2023-12-24T00:09:36.057305",
     "status": "completed"
    },
    "tags": []
   },
   "outputs": [
    {
     "name": "stdout",
     "output_type": "stream",
     "text": [
      "--2023-12-24 00:09:36--  https://storage.googleapis.com/tensorflow-1-public/course3/sarcasm.json\r\n",
      "Resolving storage.googleapis.com (storage.googleapis.com)... 173.194.203.207, 74.125.199.207, 142.250.107.207, ...\r\n",
      "Connecting to storage.googleapis.com (storage.googleapis.com)|173.194.203.207|:443... connected.\r\n",
      "HTTP request sent, awaiting response... 200 OK\r\n",
      "Length: 5643545 (5.4M) [application/json]\r\n",
      "Saving to: 'sarcasm.json'\r\n",
      "\r\n",
      "sarcasm.json        100%[===================>]   5.38M  --.-KB/s    in 0.08s   \r\n",
      "\r\n",
      "2023-12-24 00:09:37 (64.8 MB/s) - 'sarcasm.json' saved [5643545/5643545]\r\n",
      "\r\n"
     ]
    }
   ],
   "source": [
    "# Download the dataset\n",
    "!wget https://storage.googleapis.com/tensorflow-1-public/course3/sarcasm.json"
   ]
  },
  {
   "cell_type": "code",
   "execution_count": 3,
   "id": "08a298c4",
   "metadata": {
    "execution": {
     "iopub.execute_input": "2023-12-24T00:09:37.256806Z",
     "iopub.status.busy": "2023-12-24T00:09:37.256449Z",
     "iopub.status.idle": "2023-12-24T00:09:37.328641Z",
     "shell.execute_reply": "2023-12-24T00:09:37.327824Z"
    },
    "papermill": {
     "duration": 0.080832,
     "end_time": "2023-12-24T00:09:37.331060",
     "exception": false,
     "start_time": "2023-12-24T00:09:37.250228",
     "status": "completed"
    },
    "tags": []
   },
   "outputs": [],
   "source": [
    "import json\n",
    "with open('sarcasm.json','r') as f:\n",
    "    dataset = json.load(f)\n",
    "\n",
    "sentences = []\n",
    "labels = []\n",
    "for item in dataset:\n",
    "    sentences.append(item['headline'])\n",
    "    labels.append(item['is_sarcastic'])"
   ]
  },
  {
   "cell_type": "code",
   "execution_count": 4,
   "id": "f471238d",
   "metadata": {
    "execution": {
     "iopub.execute_input": "2023-12-24T00:09:37.342702Z",
     "iopub.status.busy": "2023-12-24T00:09:37.342356Z",
     "iopub.status.idle": "2023-12-24T00:09:37.350838Z",
     "shell.execute_reply": "2023-12-24T00:09:37.349918Z"
    },
    "papermill": {
     "duration": 0.01669,
     "end_time": "2023-12-24T00:09:37.352857",
     "exception": false,
     "start_time": "2023-12-24T00:09:37.336167",
     "status": "completed"
    },
    "tags": []
   },
   "outputs": [],
   "source": [
    "test_split = 0.2\n",
    "index = int(len(sentences)*test_split)\n",
    "\n",
    "test_sentences = sentences[:index]\n",
    "test_labels = labels[:index]\n",
    "train_sentences = sentences[index:]\n",
    "train_labels = labels[index:]\n",
    "\n",
    "test_labels = np.array(test_labels)\n",
    "train_labels = np.array(train_labels)"
   ]
  },
  {
   "cell_type": "code",
   "execution_count": 5,
   "id": "0ac55ac8",
   "metadata": {
    "execution": {
     "iopub.execute_input": "2023-12-24T00:09:37.364023Z",
     "iopub.status.busy": "2023-12-24T00:09:37.363707Z",
     "iopub.status.idle": "2023-12-24T00:09:49.005250Z",
     "shell.execute_reply": "2023-12-24T00:09:49.004433Z"
    },
    "papermill": {
     "duration": 11.649834,
     "end_time": "2023-12-24T00:09:49.007807",
     "exception": false,
     "start_time": "2023-12-24T00:09:37.357973",
     "status": "completed"
    },
    "tags": []
   },
   "outputs": [
    {
     "name": "stderr",
     "output_type": "stream",
     "text": [
      "/opt/conda/lib/python3.10/site-packages/scipy/__init__.py:146: UserWarning: A NumPy version >=1.16.5 and <1.23.0 is required for this version of SciPy (detected version 1.24.3\n",
      "  warnings.warn(f\"A NumPy version >={np_minversion} and <{np_maxversion}\"\n"
     ]
    }
   ],
   "source": [
    "import tensorflow as tf\n",
    "import tensorflow.keras as keras\n",
    "import numpy as np\n",
    "from keras.preprocessing.text import Tokenizer\n",
    "from keras.preprocessing.sequence import pad_sequences"
   ]
  },
  {
   "cell_type": "code",
   "execution_count": 6,
   "id": "2d8e8763",
   "metadata": {
    "execution": {
     "iopub.execute_input": "2023-12-24T00:09:49.019365Z",
     "iopub.status.busy": "2023-12-24T00:09:49.018788Z",
     "iopub.status.idle": "2023-12-24T00:09:49.023972Z",
     "shell.execute_reply": "2023-12-24T00:09:49.023160Z"
    },
    "papermill": {
     "duration": 0.012896,
     "end_time": "2023-12-24T00:09:49.025837",
     "exception": false,
     "start_time": "2023-12-24T00:09:49.012941",
     "status": "completed"
    },
    "tags": []
   },
   "outputs": [],
   "source": [
    "# Number of examples to use for training\n",
    "training_size = 20000\n",
    "\n",
    "# Vocabulary size of the tokenizer\n",
    "vocab_size = 10000\n",
    "\n",
    "# Maximum length of the padded sequences\n",
    "max_length = 32\n",
    "\n",
    "# Output dimensions of the Embedding layer\n",
    "embedding_dim = 16\n",
    "\n",
    "# Parameters for padding and OOV tokens\n",
    "trunc_type='post'\n",
    "padding_type='post'\n",
    "oov_tok = \"<OOV>\""
   ]
  },
  {
   "cell_type": "code",
   "execution_count": 7,
   "id": "969db6e7",
   "metadata": {
    "execution": {
     "iopub.execute_input": "2023-12-24T00:09:49.036551Z",
     "iopub.status.busy": "2023-12-24T00:09:49.036265Z",
     "iopub.status.idle": "2023-12-24T00:09:50.005012Z",
     "shell.execute_reply": "2023-12-24T00:09:50.004147Z"
    },
    "papermill": {
     "duration": 0.976663,
     "end_time": "2023-12-24T00:09:50.007330",
     "exception": false,
     "start_time": "2023-12-24T00:09:49.030667",
     "status": "completed"
    },
    "tags": []
   },
   "outputs": [],
   "source": [
    "tokenizer = Tokenizer(num_words=vocab_size, oov_token=oov_tok)\n",
    "tokenizer.fit_on_texts(train_sentences)\n",
    "word_index = tokenizer.word_index\n",
    "train_sequences = tokenizer.texts_to_sequences(train_sentences)\n",
    "train_pad_sequences = pad_sequences(train_sequences, maxlen=max_length,padding=padding_type,\n",
    "                                   truncating=trunc_type)\n",
    "test_sequences = tokenizer.texts_to_sequences(test_sentences)\n",
    "test_pad_sequences = pad_sequences(test_sequences, maxlen=max_length, padding=padding_type,\n",
    "                                  truncating=trunc_type)"
   ]
  },
  {
   "cell_type": "code",
   "execution_count": 8,
   "id": "3c0bf832",
   "metadata": {
    "execution": {
     "iopub.execute_input": "2023-12-24T00:09:50.019042Z",
     "iopub.status.busy": "2023-12-24T00:09:50.018710Z",
     "iopub.status.idle": "2023-12-24T00:09:52.948302Z",
     "shell.execute_reply": "2023-12-24T00:09:52.947466Z"
    },
    "papermill": {
     "duration": 2.93779,
     "end_time": "2023-12-24T00:09:52.950582",
     "exception": false,
     "start_time": "2023-12-24T00:09:50.012792",
     "status": "completed"
    },
    "tags": []
   },
   "outputs": [],
   "source": [
    "model = keras.Sequential([\n",
    "    keras.layers.Embedding(vocab_size, embedding_dim, input_length=max_length),\n",
    "    keras.layers.GlobalAveragePooling1D(),\n",
    "    keras.layers.Dense(24, activation='relu'),\n",
    "    keras.layers.Dense(1, activation='sigmoid')\n",
    "])\n",
    "model.compile(optimizer='adam', loss='binary_crossentropy', metrics=['accuracy'])"
   ]
  },
  {
   "cell_type": "code",
   "execution_count": 9,
   "id": "12417d8b",
   "metadata": {
    "execution": {
     "iopub.execute_input": "2023-12-24T00:09:52.962435Z",
     "iopub.status.busy": "2023-12-24T00:09:52.962105Z",
     "iopub.status.idle": "2023-12-24T00:10:55.895707Z",
     "shell.execute_reply": "2023-12-24T00:10:55.894856Z"
    },
    "papermill": {
     "duration": 62.94202,
     "end_time": "2023-12-24T00:10:55.897987",
     "exception": false,
     "start_time": "2023-12-24T00:09:52.955967",
     "status": "completed"
    },
    "tags": []
   },
   "outputs": [
    {
     "name": "stdout",
     "output_type": "stream",
     "text": [
      "Epoch 1/20\n",
      "428/428 [==============================] - 21s 40ms/step - loss: 0.6265 - accuracy: 0.6393 - val_loss: 0.4741 - val_accuracy: 0.8212\n",
      "Epoch 2/20\n",
      "428/428 [==============================] - 3s 7ms/step - loss: 0.3563 - accuracy: 0.8617 - val_loss: 0.3516 - val_accuracy: 0.8510\n",
      "Epoch 3/20\n",
      "428/428 [==============================] - 3s 7ms/step - loss: 0.2637 - accuracy: 0.8965 - val_loss: 0.3362 - val_accuracy: 0.8545\n",
      "Epoch 4/20\n",
      "428/428 [==============================] - 2s 6ms/step - loss: 0.2162 - accuracy: 0.9195 - val_loss: 0.3333 - val_accuracy: 0.8547\n",
      "Epoch 5/20\n",
      "428/428 [==============================] - 2s 5ms/step - loss: 0.1831 - accuracy: 0.9329 - val_loss: 0.3459 - val_accuracy: 0.8547\n",
      "Epoch 6/20\n",
      "428/428 [==============================] - 2s 5ms/step - loss: 0.1581 - accuracy: 0.9420 - val_loss: 0.3620 - val_accuracy: 0.8528\n",
      "Epoch 7/20\n",
      "428/428 [==============================] - 2s 5ms/step - loss: 0.1377 - accuracy: 0.9508 - val_loss: 0.3879 - val_accuracy: 0.8506\n",
      "Epoch 8/20\n",
      "428/428 [==============================] - 2s 5ms/step - loss: 0.1211 - accuracy: 0.9591 - val_loss: 0.4127 - val_accuracy: 0.8452\n",
      "Epoch 9/20\n",
      "428/428 [==============================] - 2s 5ms/step - loss: 0.1069 - accuracy: 0.9648 - val_loss: 0.4427 - val_accuracy: 0.8450\n",
      "Epoch 10/20\n",
      "428/428 [==============================] - 2s 5ms/step - loss: 0.0948 - accuracy: 0.9686 - val_loss: 0.4781 - val_accuracy: 0.8424\n",
      "Epoch 11/20\n",
      "428/428 [==============================] - 2s 5ms/step - loss: 0.0840 - accuracy: 0.9739 - val_loss: 0.5282 - val_accuracy: 0.8384\n",
      "Epoch 12/20\n",
      "428/428 [==============================] - 2s 4ms/step - loss: 0.0749 - accuracy: 0.9766 - val_loss: 0.5545 - val_accuracy: 0.8350\n",
      "Epoch 13/20\n",
      "428/428 [==============================] - 2s 5ms/step - loss: 0.0673 - accuracy: 0.9792 - val_loss: 0.6034 - val_accuracy: 0.8336\n",
      "Epoch 14/20\n",
      "428/428 [==============================] - 2s 5ms/step - loss: 0.0592 - accuracy: 0.9823 - val_loss: 0.6413 - val_accuracy: 0.8309\n",
      "Epoch 15/20\n",
      "428/428 [==============================] - 2s 4ms/step - loss: 0.0535 - accuracy: 0.9840 - val_loss: 0.6865 - val_accuracy: 0.8272\n",
      "Epoch 16/20\n",
      "428/428 [==============================] - 2s 5ms/step - loss: 0.0483 - accuracy: 0.9862 - val_loss: 0.7400 - val_accuracy: 0.8212\n",
      "Epoch 17/20\n",
      "428/428 [==============================] - 2s 5ms/step - loss: 0.0424 - accuracy: 0.9882 - val_loss: 0.7925 - val_accuracy: 0.8176\n",
      "Epoch 18/20\n",
      "428/428 [==============================] - 2s 4ms/step - loss: 0.0377 - accuracy: 0.9903 - val_loss: 0.8377 - val_accuracy: 0.8178\n",
      "Epoch 19/20\n",
      "428/428 [==============================] - 2s 4ms/step - loss: 0.0343 - accuracy: 0.9906 - val_loss: 0.9075 - val_accuracy: 0.8191\n",
      "Epoch 20/20\n",
      "428/428 [==============================] - 2s 5ms/step - loss: 0.0313 - accuracy: 0.9915 - val_loss: 0.9506 - val_accuracy: 0.8160\n"
     ]
    }
   ],
   "source": [
    "history = model.fit(train_pad_sequences, train_labels, epochs=20, batch_size=50, \n",
    "          validation_data=(test_pad_sequences,test_labels))"
   ]
  },
  {
   "cell_type": "code",
   "execution_count": 10,
   "id": "f7b29eed",
   "metadata": {
    "execution": {
     "iopub.execute_input": "2023-12-24T00:10:56.029011Z",
     "iopub.status.busy": "2023-12-24T00:10:56.028664Z",
     "iopub.status.idle": "2023-12-24T00:10:56.033602Z",
     "shell.execute_reply": "2023-12-24T00:10:56.032691Z"
    },
    "papermill": {
     "duration": 0.070466,
     "end_time": "2023-12-24T00:10:56.035598",
     "exception": false,
     "start_time": "2023-12-24T00:10:55.965132",
     "status": "completed"
    },
    "tags": []
   },
   "outputs": [],
   "source": [
    "acc = history.history['accuracy']\n",
    "val_acc = history.history['val_accuracy']\n",
    "loss = history.history['loss']\n",
    "val_loss = history.history['val_loss']\n",
    "epochs = history.epoch"
   ]
  },
  {
   "cell_type": "code",
   "execution_count": 11,
   "id": "8e9ad523",
   "metadata": {
    "execution": {
     "iopub.execute_input": "2023-12-24T00:10:56.211918Z",
     "iopub.status.busy": "2023-12-24T00:10:56.211041Z",
     "iopub.status.idle": "2023-12-24T00:10:56.518513Z",
     "shell.execute_reply": "2023-12-24T00:10:56.517517Z"
    },
    "papermill": {
     "duration": 0.374085,
     "end_time": "2023-12-24T00:10:56.520820",
     "exception": false,
     "start_time": "2023-12-24T00:10:56.146735",
     "status": "completed"
    },
    "tags": []
   },
   "outputs": [
    {
     "data": {
      "text/plain": [
       "[<matplotlib.lines.Line2D at 0x7c2290116320>]"
      ]
     },
     "execution_count": 11,
     "metadata": {},
     "output_type": "execute_result"
    },
    {
     "data": {
      "image/png": "[encoded data removed]",
      "text/plain": [
       "<Figure size 640x480 with 1 Axes>"
      ]
     },
     "metadata": {},
     "output_type": "display_data"
    }
   ],
   "source": [
    "import matplotlib.pyplot as plt\n",
    "plt.plot(epochs, acc)\n",
    "plt.plot(epochs, val_acc)"
   ]
  },
  {
   "cell_type": "code",
   "execution_count": 12,
   "id": "983baf19",
   "metadata": {
    "execution": {
     "iopub.execute_input": "2023-12-24T00:10:56.645391Z",
     "iopub.status.busy": "2023-12-24T00:10:56.645018Z",
     "iopub.status.idle": "2023-12-24T00:10:56.907788Z",
     "shell.execute_reply": "2023-12-24T00:10:56.906847Z"
    },
    "papermill": {
     "duration": 0.327727,
     "end_time": "2023-12-24T00:10:56.909945",
     "exception": false,
     "start_time": "2023-12-24T00:10:56.582218",
     "status": "completed"
    },
    "tags": []
   },
   "outputs": [
    {
     "data": {
      "text/plain": [
       "[<matplotlib.lines.Line2D at 0x7c225b908ee0>]"
      ]
     },
     "execution_count": 12,
     "metadata": {},
     "output_type": "execute_result"
    },
    {
     "data": {
      "image/png": "[encoded data removed]",
      "text/plain": [
       "<Figure size 640x480 with 1 Axes>"
      ]
     },
     "metadata": {},
     "output_type": "display_data"
    }
   ],
   "source": [
    "plt.plot(epochs, loss)\n",
    "plt.plot(epochs, val_loss)"
   ]
  },
  {
   "cell_type": "code",
   "execution_count": 13,
   "id": "f252f60d",
   "metadata": {
    "execution": {
     "iopub.execute_input": "2023-12-24T00:10:57.036383Z",
     "iopub.status.busy": "2023-12-24T00:10:57.035990Z",
     "iopub.status.idle": "2023-12-24T00:10:57.040743Z",
     "shell.execute_reply": "2023-12-24T00:10:57.039795Z"
    },
    "papermill": {
     "duration": 0.070347,
     "end_time": "2023-12-24T00:10:57.042714",
     "exception": false,
     "start_time": "2023-12-24T00:10:56.972367",
     "status": "completed"
    },
    "tags": []
   },
   "outputs": [],
   "source": [
    "reverse_word_index = tokenizer.index_word\n",
    "embedding_layer = model.layers[0]\n",
    "embedding_weights = embedding_layer.weights[0]"
   ]
  },
  {
   "cell_type": "code",
   "execution_count": 14,
   "id": "cd5c7424",
   "metadata": {
    "execution": {
     "iopub.execute_input": "2023-12-24T00:10:57.167666Z",
     "iopub.status.busy": "2023-12-24T00:10:57.167275Z",
     "iopub.status.idle": "2023-12-24T00:12:18.085037Z",
     "shell.execute_reply": "2023-12-24T00:12:18.083955Z"
    },
    "papermill": {
     "duration": 80.983128,
     "end_time": "2023-12-24T00:12:18.087593",
     "exception": false,
     "start_time": "2023-12-24T00:10:57.104465",
     "status": "completed"
    },
    "tags": []
   },
   "outputs": [],
   "source": [
    "import io\n",
    "out_v = io.open('vecs.tsv','w',encoding='utf8')\n",
    "out_m = io.open('vecs.tsv','w',encoding='utf8')\n",
    "\n",
    "for word_num in range(1,vocab_size):\n",
    "    word = reverse_word_index[word_num]\n",
    "    out_m.write(word+\"\\n\")\n",
    "    \n",
    "    embedding = embedding_weights[word_num]\n",
    "    out_v.write(\"\\t\".join(str(x) for x in embedding)+\"\\n\")\n",
    "\n",
    "out_v.close()\n",
    "out_m.close()"
   ]
  },
  {
   "cell_type": "code",
   "execution_count": null,
   "id": "e9c578d3",
   "metadata": {
    "papermill": {
     "duration": 0.061492,
     "end_time": "2023-12-24T00:12:18.211205",
     "exception": false,
     "start_time": "2023-12-24T00:12:18.149713",
     "status": "completed"
    },
    "tags": []
   },
   "outputs": [],
   "source": []
  }
 ],
 "metadata": {
  "kaggle": {
   "accelerator": "gpu",
   "dataSources": [],
   "dockerImageVersionId": 30627,
   "isGpuEnabled": true,
   "isInternetEnabled": true,
   "language": "python",
   "sourceType": "notebook"
  },
  "kernelspec": {
   "display_name": "Python 3",
   "language": "python",
   "name": "python3"
  },
  "language_info": {
   "codemirror_mode": {
    "name": "ipython",
    "version": 3
   },
   "file_extension": ".py",
   "mimetype": "text/x-python",
   "name": "python",
   "nbconvert_exporter": "python",
   "pygments_lexer": "ipython3",
   "version": "3.10.12"
  },
  "papermill": {
   "default_parameters": {},
   "duration": 169.605495,
   "end_time": "2023-12-24T00:12:21.545378",
   "environment_variables": {},
   "exception": null,
   "input_path": "__notebook__.ipynb",
   "output_path": "__notebook__.ipynb",
   "parameters": {},
   "start_time": "2023-12-24T00:09:31.939883",
   "version": "2.4.0"
  }
 },
 "nbformat": 4,
 "nbformat_minor": 5
}
